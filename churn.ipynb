{
 "cells": [
  {
   "cell_type": "markdown",
   "id": "61e342f9",
   "metadata": {},
   "source": [
    "# SyriaTel Customer Churn"
   ]
  },
  {
   "cell_type": "markdown",
   "id": "05d5cd3c",
   "metadata": {},
   "source": [
    "![Customer service](images/call_center.png)"
   ]
  },
  {
   "cell_type": "markdown",
   "id": "fca243cc",
   "metadata": {},
   "source": [
    "## Overview"
   ]
  },
  {
   "cell_type": "markdown",
   "id": "78cc0520",
   "metadata": {},
   "source": [
    "This project explores and analyses telecom data from SyriaTel to generate insights on how international and voicemail plans, customer service calls and call minutes affect customer satisfaction causing churn. SyriaTel can use this analysis to curb churn and calculate money lost when a customer churns."
   ]
  },
  {
   "cell_type": "markdown",
   "id": "86766643",
   "metadata": {},
   "source": [
    "## Business Problem"
   ]
  },
  {
   "cell_type": "markdown",
   "id": "596dc311",
   "metadata": {},
   "source": [
    "In this project, we address the rate of customer churn at SyriaTel, a telecom company. Customer churn leads to significant revenue loss and increased costs for acquiring new customers. The goal is to identify the key factors that contribute to customer churn, such as international and voicemail plans, customer service interactions, and call usage patterns. By understanding these drivers, SyriaTel can develop targeted strategies to improve customer retention, enhance satisfaction, and reduce the financial impact of churn."
   ]
  },
  {
   "cell_type": "markdown",
   "id": "b460b23c",
   "metadata": {},
   "source": [
    "![Telephone](images\\telephone-3594206_1280.jpg)"
   ]
  },
  {
   "cell_type": "markdown",
   "id": "5bd517ae",
   "metadata": {},
   "source": [
    "## Objectives"
   ]
  },
  {
   "cell_type": "markdown",
   "id": "d960b33c",
   "metadata": {},
   "source": [
    "* What is the overall churn rate?\n",
    "* Which package plans have customers at high risk of leaving?\n",
    "* What factors contribute to high rate of customer churn?\n"
   ]
  },
  {
   "cell_type": "markdown",
   "id": "cc76ac5e",
   "metadata": {},
   "source": [
    "## Data Understanding"
   ]
  },
  {
   "cell_type": "markdown",
   "id": "16a35fd2",
   "metadata": {},
   "source": [
    "The telecom data used in this project is from `kaggle`[here](https://www.kaggle.com/datasets/becksddf/churn-in-telecoms-dataset).\n"
   ]
  },
  {
   "cell_type": "markdown",
   "id": "05f64116",
   "metadata": {},
   "source": [
    "Import the neccessary libraries"
   ]
  },
  {
   "cell_type": "code",
   "execution_count": 66,
   "id": "e13138b8",
   "metadata": {},
   "outputs": [],
   "source": [
    "# import libraries\n",
    "import numpy as np\n",
    "import pandas as pd\n",
    "import matplotlib.pyplot as plt\n",
    "import seaborn as sns"
   ]
  },
  {
   "cell_type": "code",
   "execution_count": 67,
   "id": "87729cc3",
   "metadata": {},
   "outputs": [],
   "source": [
    "# preprocessing and evaluation metrics\n",
    "from sklearn.preprocessing import LabelEncoder, OneHotEncoder, StandardScaler\n",
    "from sklearn.model_selection import train_test_split\n",
    "from sklearn.linear_model import LogisticRegression\n",
    "from sklearn.tree import DecisionTreeClassifier\n",
    "from sklearn.metrics import accuracy_score, precision_score, f1_score, recall_score\n",
    "from sklearn.metrics import confusion_matrix, ConfusionMatrixDisplay\n",
    "from sklearn.metrics import classification_report\n",
    "from sklearn.metrics import roc_curve, auc\n",
    "from imblearn.over_sampling import SMOTE\n",
    "from sklearn.model_selection import GridSearchCV\n",
    "import warnings\n",
    "warnings.simplefilter(action='ignore', category=FutureWarning)"
   ]
  },
  {
   "cell_type": "code",
   "execution_count": 68,
   "id": "66d55de7",
   "metadata": {},
   "outputs": [
    {
     "data": {
      "application/vnd.microsoft.datawrangler.viewer.v0+json": {
       "columns": [
        {
         "name": "index",
         "rawType": "int64",
         "type": "integer"
        },
        {
         "name": "state",
         "rawType": "object",
         "type": "string"
        },
        {
         "name": "account length",
         "rawType": "int64",
         "type": "integer"
        },
        {
         "name": "area code",
         "rawType": "int64",
         "type": "integer"
        },
        {
         "name": "phone number",
         "rawType": "object",
         "type": "string"
        },
        {
         "name": "international plan",
         "rawType": "object",
         "type": "string"
        },
        {
         "name": "voice mail plan",
         "rawType": "object",
         "type": "string"
        },
        {
         "name": "number vmail messages",
         "rawType": "int64",
         "type": "integer"
        },
        {
         "name": "total day minutes",
         "rawType": "float64",
         "type": "float"
        },
        {
         "name": "total day calls",
         "rawType": "int64",
         "type": "integer"
        },
        {
         "name": "total day charge",
         "rawType": "float64",
         "type": "float"
        },
        {
         "name": "total eve minutes",
         "rawType": "float64",
         "type": "float"
        },
        {
         "name": "total eve calls",
         "rawType": "int64",
         "type": "integer"
        },
        {
         "name": "total eve charge",
         "rawType": "float64",
         "type": "float"
        },
        {
         "name": "total night minutes",
         "rawType": "float64",
         "type": "float"
        },
        {
         "name": "total night calls",
         "rawType": "int64",
         "type": "integer"
        },
        {
         "name": "total night charge",
         "rawType": "float64",
         "type": "float"
        },
        {
         "name": "total intl minutes",
         "rawType": "float64",
         "type": "float"
        },
        {
         "name": "total intl calls",
         "rawType": "int64",
         "type": "integer"
        },
        {
         "name": "total intl charge",
         "rawType": "float64",
         "type": "float"
        },
        {
         "name": "customer service calls",
         "rawType": "int64",
         "type": "integer"
        },
        {
         "name": "churn",
         "rawType": "bool",
         "type": "boolean"
        }
       ],
       "conversionMethod": "pd.DataFrame",
       "ref": "eb576169-dbdd-4e6f-b6d6-0d5c87929050",
       "rows": [
        [
         "0",
         "KS",
         "128",
         "415",
         "382-4657",
         "no",
         "yes",
         "25",
         "265.1",
         "110",
         "45.07",
         "197.4",
         "99",
         "16.78",
         "244.7",
         "91",
         "11.01",
         "10.0",
         "3",
         "2.7",
         "1",
         "False"
        ],
        [
         "1",
         "OH",
         "107",
         "415",
         "371-7191",
         "no",
         "yes",
         "26",
         "161.6",
         "123",
         "27.47",
         "195.5",
         "103",
         "16.62",
         "254.4",
         "103",
         "11.45",
         "13.7",
         "3",
         "3.7",
         "1",
         "False"
        ],
        [
         "2",
         "NJ",
         "137",
         "415",
         "358-1921",
         "no",
         "no",
         "0",
         "243.4",
         "114",
         "41.38",
         "121.2",
         "110",
         "10.3",
         "162.6",
         "104",
         "7.32",
         "12.2",
         "5",
         "3.29",
         "0",
         "False"
        ],
        [
         "3",
         "OH",
         "84",
         "408",
         "375-9999",
         "yes",
         "no",
         "0",
         "299.4",
         "71",
         "50.9",
         "61.9",
         "88",
         "5.26",
         "196.9",
         "89",
         "8.86",
         "6.6",
         "7",
         "1.78",
         "2",
         "False"
        ],
        [
         "4",
         "OK",
         "75",
         "415",
         "330-6626",
         "yes",
         "no",
         "0",
         "166.7",
         "113",
         "28.34",
         "148.3",
         "122",
         "12.61",
         "186.9",
         "121",
         "8.41",
         "10.1",
         "3",
         "2.73",
         "3",
         "False"
        ]
       ],
       "shape": {
        "columns": 21,
        "rows": 5
       }
      },
      "text/html": [
       "<div>\n",
       "<style scoped>\n",
       "    .dataframe tbody tr th:only-of-type {\n",
       "        vertical-align: middle;\n",
       "    }\n",
       "\n",
       "    .dataframe tbody tr th {\n",
       "        vertical-align: top;\n",
       "    }\n",
       "\n",
       "    .dataframe thead th {\n",
       "        text-align: right;\n",
       "    }\n",
       "</style>\n",
       "<table border=\"1\" class=\"dataframe\">\n",
       "  <thead>\n",
       "    <tr style=\"text-align: right;\">\n",
       "      <th></th>\n",
       "      <th>state</th>\n",
       "      <th>account length</th>\n",
       "      <th>area code</th>\n",
       "      <th>phone number</th>\n",
       "      <th>international plan</th>\n",
       "      <th>voice mail plan</th>\n",
       "      <th>number vmail messages</th>\n",
       "      <th>total day minutes</th>\n",
       "      <th>total day calls</th>\n",
       "      <th>total day charge</th>\n",
       "      <th>...</th>\n",
       "      <th>total eve calls</th>\n",
       "      <th>total eve charge</th>\n",
       "      <th>total night minutes</th>\n",
       "      <th>total night calls</th>\n",
       "      <th>total night charge</th>\n",
       "      <th>total intl minutes</th>\n",
       "      <th>total intl calls</th>\n",
       "      <th>total intl charge</th>\n",
       "      <th>customer service calls</th>\n",
       "      <th>churn</th>\n",
       "    </tr>\n",
       "  </thead>\n",
       "  <tbody>\n",
       "    <tr>\n",
       "      <th>0</th>\n",
       "      <td>KS</td>\n",
       "      <td>128</td>\n",
       "      <td>415</td>\n",
       "      <td>382-4657</td>\n",
       "      <td>no</td>\n",
       "      <td>yes</td>\n",
       "      <td>25</td>\n",
       "      <td>265.1</td>\n",
       "      <td>110</td>\n",
       "      <td>45.07</td>\n",
       "      <td>...</td>\n",
       "      <td>99</td>\n",
       "      <td>16.78</td>\n",
       "      <td>244.7</td>\n",
       "      <td>91</td>\n",
       "      <td>11.01</td>\n",
       "      <td>10.0</td>\n",
       "      <td>3</td>\n",
       "      <td>2.70</td>\n",
       "      <td>1</td>\n",
       "      <td>False</td>\n",
       "    </tr>\n",
       "    <tr>\n",
       "      <th>1</th>\n",
       "      <td>OH</td>\n",
       "      <td>107</td>\n",
       "      <td>415</td>\n",
       "      <td>371-7191</td>\n",
       "      <td>no</td>\n",
       "      <td>yes</td>\n",
       "      <td>26</td>\n",
       "      <td>161.6</td>\n",
       "      <td>123</td>\n",
       "      <td>27.47</td>\n",
       "      <td>...</td>\n",
       "      <td>103</td>\n",
       "      <td>16.62</td>\n",
       "      <td>254.4</td>\n",
       "      <td>103</td>\n",
       "      <td>11.45</td>\n",
       "      <td>13.7</td>\n",
       "      <td>3</td>\n",
       "      <td>3.70</td>\n",
       "      <td>1</td>\n",
       "      <td>False</td>\n",
       "    </tr>\n",
       "    <tr>\n",
       "      <th>2</th>\n",
       "      <td>NJ</td>\n",
       "      <td>137</td>\n",
       "      <td>415</td>\n",
       "      <td>358-1921</td>\n",
       "      <td>no</td>\n",
       "      <td>no</td>\n",
       "      <td>0</td>\n",
       "      <td>243.4</td>\n",
       "      <td>114</td>\n",
       "      <td>41.38</td>\n",
       "      <td>...</td>\n",
       "      <td>110</td>\n",
       "      <td>10.30</td>\n",
       "      <td>162.6</td>\n",
       "      <td>104</td>\n",
       "      <td>7.32</td>\n",
       "      <td>12.2</td>\n",
       "      <td>5</td>\n",
       "      <td>3.29</td>\n",
       "      <td>0</td>\n",
       "      <td>False</td>\n",
       "    </tr>\n",
       "    <tr>\n",
       "      <th>3</th>\n",
       "      <td>OH</td>\n",
       "      <td>84</td>\n",
       "      <td>408</td>\n",
       "      <td>375-9999</td>\n",
       "      <td>yes</td>\n",
       "      <td>no</td>\n",
       "      <td>0</td>\n",
       "      <td>299.4</td>\n",
       "      <td>71</td>\n",
       "      <td>50.90</td>\n",
       "      <td>...</td>\n",
       "      <td>88</td>\n",
       "      <td>5.26</td>\n",
       "      <td>196.9</td>\n",
       "      <td>89</td>\n",
       "      <td>8.86</td>\n",
       "      <td>6.6</td>\n",
       "      <td>7</td>\n",
       "      <td>1.78</td>\n",
       "      <td>2</td>\n",
       "      <td>False</td>\n",
       "    </tr>\n",
       "    <tr>\n",
       "      <th>4</th>\n",
       "      <td>OK</td>\n",
       "      <td>75</td>\n",
       "      <td>415</td>\n",
       "      <td>330-6626</td>\n",
       "      <td>yes</td>\n",
       "      <td>no</td>\n",
       "      <td>0</td>\n",
       "      <td>166.7</td>\n",
       "      <td>113</td>\n",
       "      <td>28.34</td>\n",
       "      <td>...</td>\n",
       "      <td>122</td>\n",
       "      <td>12.61</td>\n",
       "      <td>186.9</td>\n",
       "      <td>121</td>\n",
       "      <td>8.41</td>\n",
       "      <td>10.1</td>\n",
       "      <td>3</td>\n",
       "      <td>2.73</td>\n",
       "      <td>3</td>\n",
       "      <td>False</td>\n",
       "    </tr>\n",
       "  </tbody>\n",
       "</table>\n",
       "<p>5 rows × 21 columns</p>\n",
       "</div>"
      ],
      "text/plain": [
       "  state  account length  area code phone number international plan  \\\n",
       "0    KS             128        415     382-4657                 no   \n",
       "1    OH             107        415     371-7191                 no   \n",
       "2    NJ             137        415     358-1921                 no   \n",
       "3    OH              84        408     375-9999                yes   \n",
       "4    OK              75        415     330-6626                yes   \n",
       "\n",
       "  voice mail plan  number vmail messages  total day minutes  total day calls  \\\n",
       "0             yes                     25              265.1              110   \n",
       "1             yes                     26              161.6              123   \n",
       "2              no                      0              243.4              114   \n",
       "3              no                      0              299.4               71   \n",
       "4              no                      0              166.7              113   \n",
       "\n",
       "   total day charge  ...  total eve calls  total eve charge  \\\n",
       "0             45.07  ...               99             16.78   \n",
       "1             27.47  ...              103             16.62   \n",
       "2             41.38  ...              110             10.30   \n",
       "3             50.90  ...               88              5.26   \n",
       "4             28.34  ...              122             12.61   \n",
       "\n",
       "   total night minutes  total night calls  total night charge  \\\n",
       "0                244.7                 91               11.01   \n",
       "1                254.4                103               11.45   \n",
       "2                162.6                104                7.32   \n",
       "3                196.9                 89                8.86   \n",
       "4                186.9                121                8.41   \n",
       "\n",
       "   total intl minutes  total intl calls  total intl charge  \\\n",
       "0                10.0                 3               2.70   \n",
       "1                13.7                 3               3.70   \n",
       "2                12.2                 5               3.29   \n",
       "3                 6.6                 7               1.78   \n",
       "4                10.1                 3               2.73   \n",
       "\n",
       "   customer service calls  churn  \n",
       "0                       1  False  \n",
       "1                       1  False  \n",
       "2                       0  False  \n",
       "3                       2  False  \n",
       "4                       3  False  \n",
       "\n",
       "[5 rows x 21 columns]"
      ]
     },
     "execution_count": 68,
     "metadata": {},
     "output_type": "execute_result"
    }
   ],
   "source": [
    "# load dataset\n",
    "\n",
    "df = pd.read_csv(\"telecom.csv\", sep=\",\")\n",
    "df.head()"
   ]
  },
  {
   "cell_type": "code",
   "execution_count": 69,
   "id": "34e3744f",
   "metadata": {},
   "outputs": [
    {
     "name": "stdout",
     "output_type": "stream",
     "text": [
      "<class 'pandas.core.frame.DataFrame'>\n",
      "RangeIndex: 3333 entries, 0 to 3332\n",
      "Data columns (total 21 columns):\n",
      " #   Column                  Non-Null Count  Dtype  \n",
      "---  ------                  --------------  -----  \n",
      " 0   state                   3333 non-null   object \n",
      " 1   account length          3333 non-null   int64  \n",
      " 2   area code               3333 non-null   int64  \n",
      " 3   phone number            3333 non-null   object \n",
      " 4   international plan      3333 non-null   object \n",
      " 5   voice mail plan         3333 non-null   object \n",
      " 6   number vmail messages   3333 non-null   int64  \n",
      " 7   total day minutes       3333 non-null   float64\n",
      " 8   total day calls         3333 non-null   int64  \n",
      " 9   total day charge        3333 non-null   float64\n",
      " 10  total eve minutes       3333 non-null   float64\n",
      " 11  total eve calls         3333 non-null   int64  \n",
      " 12  total eve charge        3333 non-null   float64\n",
      " 13  total night minutes     3333 non-null   float64\n",
      " 14  total night calls       3333 non-null   int64  \n",
      " 15  total night charge      3333 non-null   float64\n",
      " 16  total intl minutes      3333 non-null   float64\n",
      " 17  total intl calls        3333 non-null   int64  \n",
      " 18  total intl charge       3333 non-null   float64\n",
      " 19  customer service calls  3333 non-null   int64  \n",
      " 20  churn                   3333 non-null   bool   \n",
      "dtypes: bool(1), float64(8), int64(8), object(4)\n",
      "memory usage: 524.2+ KB\n"
     ]
    }
   ],
   "source": [
    "# check the dataset\n",
    "df.info()"
   ]
  },
  {
   "cell_type": "markdown",
   "id": "948f4421",
   "metadata": {},
   "source": [
    "* The dataset is clean has no missing values\n",
    "* It has 2 categorical columns (international plan, voicemail plan)"
   ]
  },
  {
   "cell_type": "code",
   "execution_count": 70,
   "id": "3a88e347",
   "metadata": {},
   "outputs": [
    {
     "name": "stdout",
     "output_type": "stream",
     "text": [
      "0       False\n",
      "1       False\n",
      "2       False\n",
      "3       False\n",
      "4       False\n",
      "        ...  \n",
      "3328    False\n",
      "3329    False\n",
      "3330    False\n",
      "3331    False\n",
      "3332    False\n",
      "Length: 3333, dtype: bool\n"
     ]
    }
   ],
   "source": [
    "duplicates = df.duplicated()\n",
    "print(duplicates)"
   ]
  },
  {
   "cell_type": "markdown",
   "id": "9b197d84",
   "metadata": {},
   "source": [
    "* The dataset has 3333 entries with no duplicates"
   ]
  },
  {
   "cell_type": "code",
   "execution_count": 71,
   "id": "a722034b",
   "metadata": {},
   "outputs": [
    {
     "data": {
      "image/png": "[encoded data removed]",
      "text/plain": [
       "<Figure size 800x600 with 1 Axes>"
      ]
     },
     "metadata": {},
     "output_type": "display_data"
    }
   ],
   "source": [
    "# visualize the distribution of churn and add percentage annotations\n",
    "plt.figure(figsize=(8, 6))\n",
    "ax = sns.countplot(x='churn', data=df, palette='inferno')\n",
    "total = len(df)\n",
    "for p in ax.patches:\n",
    "    count = int(p.get_height())\n",
    "    percentage = 100 * count / total\n",
    "    ax.annotate(f'{percentage:.2f}%', (p.get_x() + p.get_width() / 2, p.get_height()),\n",
    "                ha='center', va='bottom', fontsize=12, color='black', fontweight='bold')\n",
    "plt.title('Distribution of Churn')\n",
    "plt.xlabel('Churn')\n",
    "plt.ylabel('Count')\n",
    "plt.show()"
   ]
  },
  {
   "cell_type": "code",
   "execution_count": 72,
   "id": "cc703de6",
   "metadata": {},
   "outputs": [
    {
     "name": "stdout",
     "output_type": "stream",
     "text": [
      "churn\n",
      "False    2850\n",
      "True      483\n",
      "Name: count, dtype: int64\n"
     ]
    }
   ],
   "source": [
    "# view churn distribution of values in the dataset\n",
    "churn_distribution = df['churn'].value_counts()\n",
    "\n",
    "print(churn_distribution)"
   ]
  },
  {
   "cell_type": "code",
   "execution_count": 73,
   "id": "8eec8f13",
   "metadata": {},
   "outputs": [
    {
     "name": "stdout",
     "output_type": "stream",
     "text": [
      "Churn Percentage: 14.49%\n",
      "Loyal Percentage: 85.51%\n"
     ]
    }
   ],
   "source": [
    "# Calculate and display churn percentage\n",
    "churn_percent = (df['churn'].sum() / len(df)) * 100\n",
    "print(f\"Churn Percentage: {churn_percent:.2f}%\")\n",
    "# check percentage of loyal customers\n",
    "loyal_customers = (churn_distribution[False] / churn_distribution.sum()) * 100\n",
    "\n",
    "print(f\"Loyal Percentage: {loyal_customers:.2f}%\")"
   ]
  },
  {
   "cell_type": "markdown",
   "id": "2def85e3",
   "metadata": {},
   "source": [
    "* There are 85.51 % of loyal customers and 14.49% churn rate\n",
    "* The dataset has more records in one class therefore it is unbalanced."
   ]
  },
  {
   "cell_type": "code",
   "execution_count": 74,
   "id": "ec819efc",
   "metadata": {},
   "outputs": [],
   "source": [
    "# drop phone number \n",
    "df = df.drop(columns=['phone number'],axis=1)"
   ]
  },
  {
   "cell_type": "markdown",
   "id": "4444fdc9",
   "metadata": {},
   "source": [
    "Map binary features international plan and voicemail plan\n",
    "yes = 1, \n",
    "no = 0"
   ]
  },
  {
   "cell_type": "code",
   "execution_count": 75,
   "id": "7d93303a",
   "metadata": {},
   "outputs": [],
   "source": [
    "# map international and voicemail plans to 1 and 0\n",
    "df[['international plan', 'voice mail plan']] = df[['international plan', 'voice mail plan']].replace(['yes', 'no'], ['1', '0']).astype(int)"
   ]
  },
  {
   "cell_type": "markdown",
   "id": "365fade1",
   "metadata": {},
   "source": [
    "### Multivariate Analysis"
   ]
  },
  {
   "cell_type": "markdown",
   "id": "69114b40",
   "metadata": {},
   "source": [
    "This is to check the relationship of features"
   ]
  },
  {
   "cell_type": "code",
   "execution_count": 76,
   "id": "0053e444",
   "metadata": {},
   "outputs": [
    {
     "data": {
      "image/png": "[encoded data removed]",
      "text/plain": [
       "<Figure size 1000x800 with 2 Axes>"
      ]
     },
     "metadata": {},
     "output_type": "display_data"
    }
   ],
   "source": [
    "numeric_df = df.select_dtypes(include=['float64', 'int64'])\n",
    "\n",
    "correlation_matrix = numeric_df.corr(method='spearman')\n",
    "#mask = np.triu(np.ones_like(correlation_matrix, dtype=bool))\n",
    "\n",
    "\n",
    "plt.figure(figsize=(10, 8))\n",
    "\n",
    "# Draw the heatmap\n",
    "sns.heatmap(correlation_matrix, annot=True, fmt=\".2f\", cmap='viridis')\n",
    "plt.title('Correlation Heatmap of Numerical Features')\n",
    "plt.tight_layout()\n",
    "plt.show()"
   ]
  },
  {
   "cell_type": "markdown",
   "id": "965aacc7",
   "metadata": {},
   "source": [
    "*Interpretation*\n",
    "\n",
    "`Redundacy`\n",
    "* The heatmap shows perfect correlations between minutes and charge for day, evening and night which indicates multicollinearity\n"
   ]
  },
  {
   "cell_type": "code",
   "execution_count": 77,
   "id": "1e84b8ee",
   "metadata": {},
   "outputs": [
    {
     "name": "stdout",
     "output_type": "stream",
     "text": [
      "<class 'pandas.core.frame.DataFrame'>\n",
      "RangeIndex: 3333 entries, 0 to 3332\n",
      "Data columns (total 16 columns):\n",
      " #   Column                  Non-Null Count  Dtype  \n",
      "---  ------                  --------------  -----  \n",
      " 0   state                   3333 non-null   object \n",
      " 1   account length          3333 non-null   int64  \n",
      " 2   area code               3333 non-null   int64  \n",
      " 3   international plan      3333 non-null   int64  \n",
      " 4   voice mail plan         3333 non-null   int64  \n",
      " 5   number vmail messages   3333 non-null   int64  \n",
      " 6   total day minutes       3333 non-null   float64\n",
      " 7   total day calls         3333 non-null   int64  \n",
      " 8   total eve minutes       3333 non-null   float64\n",
      " 9   total eve calls         3333 non-null   int64  \n",
      " 10  total night minutes     3333 non-null   float64\n",
      " 11  total night calls       3333 non-null   int64  \n",
      " 12  total intl minutes      3333 non-null   float64\n",
      " 13  total intl calls        3333 non-null   int64  \n",
      " 14  customer service calls  3333 non-null   int64  \n",
      " 15  churn                   3333 non-null   bool   \n",
      "dtypes: bool(1), float64(4), int64(10), object(1)\n",
      "memory usage: 394.0+ KB\n"
     ]
    }
   ],
   "source": [
    "# drop columns to avoid redundancy\n",
    "df = df.drop(columns=['total day charge', 'total eve charge', 'total night charge', 'total intl charge'])\n",
    "df.info()"
   ]
  },
  {
   "cell_type": "code",
   "execution_count": 78,
   "id": "890dab4f",
   "metadata": {},
   "outputs": [
    {
     "name": "stdout",
     "output_type": "stream",
     "text": [
      "count    3333.00000\n",
      "mean      306.69997\n",
      "std        34.44939\n",
      "min       194.00000\n",
      "25%       284.00000\n",
      "50%       307.00000\n",
      "75%       330.00000\n",
      "max       418.00000\n",
      "Name: total calls, dtype: float64\n",
      "\n",
      "count    3333.000000\n",
      "mean      591.864776\n",
      "std        89.954251\n",
      "min       284.300000\n",
      "25%       531.500000\n",
      "50%       593.600000\n",
      "75%       652.400000\n",
      "max       885.000000\n",
      "Name: total minutes, dtype: float64\n"
     ]
    }
   ],
   "source": [
    "# Calls and minutes aggregate\n",
    "df['total calls'] = df['total day calls'] + df['total eve calls'] + df['total night calls'] + df['total intl calls'] + df['customer service calls']\n",
    "df['total minutes'] = df['total day minutes'] + df['total eve minutes'] + df['total night minutes'] + df['total intl minutes']\n",
    "\n",
    "print(df['total calls'].describe(), df['total minutes'].describe(), sep='\\n\\n')"
   ]
  },
  {
   "cell_type": "markdown",
   "id": "031483d7",
   "metadata": {},
   "source": [
    "Check average calls and minutes by state"
   ]
  },
  {
   "cell_type": "code",
   "execution_count": 79,
   "metadata": {},
   "outputs": [
    {
     "name": "stdout",
     "output_type": "stream",
     "text": [
      "Top 5 states on average total minutes:\n",
      " state\n",
      "IN    619.323944\n",
      "NJ    611.707353\n",
      "KS    608.884286\n",
      "MA    608.644615\n",
      "TN    606.994340\n",
      "Name: total minutes, dtype: float64\n",
      "Top 5 states on average total calls:\n",
      " state\n",
      "GA    318.351852\n",
      "FL    315.809524\n",
      "ND    314.258065\n",
      "ID    312.931507\n",
      "NC    312.911765\n",
      "Name: total calls, dtype: float64\n",
      "Top 5 states on average total records:\n",
      " state\n",
      "WV    106\n",
      "MN     84\n",
      "NY     83\n",
      "AL     80\n",
      "OH     78\n",
      "Name: churn, dtype: int64\n"
     ]
    }
   ],
   "source": [
    "# total calls and total minutes per state\n",
    "calls_by_state = df.groupby('state')['total calls'].sum().sort_values(ascending=False)\n",
    "minutes_by_state = df.groupby('state')['total minutes'].sum().sort_values(ascending=False)\n",
    "\n",
    "avg_minutes_by_state = df.groupby('state')['total minutes'].mean().sort_values(ascending=False)\n",
    "avg_calls_by_state = df.groupby('state')['total calls'].mean().sort_values(ascending=False)\n",
    "records_by_state = df.groupby('state')['churn'].count().sort_values(ascending=False)\n",
    "\n",
    "print(\"Top 5 states on average total minutes:\\n\", avg_minutes_by_state.head())\n",
    "\n",
    "print(\"Top 5 states on average total calls:\\n\",avg_calls_by_state.head())\n",
    "      \n",
    "print(\"Top 5 states on average total records:\\n\",records_by_state.head())\n"
   ]
  },
  {
   "cell_type": "markdown",
   "id": "f3d10e51",
   "metadata": {},
   "source": [
    "* From the top 5 states, indiana(IN) has the highest average total minutes\n",
    "* Georgia(GA) has the highest average total calls\n",
    "* West Virginia (WV) has the highest number of churn customers\n"
   ]
  },
  {
   "cell_type": "code",
   "execution_count": 80,
   "id": "be727edf",
   "metadata": {},
   "outputs": [
    {
     "name": "stdout",
     "output_type": "stream",
     "text": [
      "Most calls: WV\n",
      "Least calls: CA\n",
      "Most minutes: WV\n",
      "Least minutes: CA\n"
     ]
    }
   ],
   "source": [
    "most_calls = calls_by_state.idxmax()\n",
    "least_calls = calls_by_state.idxmin()\n",
    "print('Most calls:', most_calls)\n",
    "print('Least calls:', least_calls)\n",
    "\n",
    "most_minutes = minutes_by_state.idxmax()\n",
    "least_minutes = minutes_by_state.idxmin()\n",
    "print('Most minutes:', most_minutes)\n",
    "print('Least minutes:', least_minutes)"
   ]
  },
  {
   "cell_type": "markdown",
   "id": "caf47bed",
   "metadata": {},
   "source": [
    "*Interpretation*\n",
    "* West Virginia has the highest number of calls and minutes\n",
    "* California has the least calls and least minutes"
   ]
  },
  {
   "cell_type": "markdown",
   "id": "34db7645",
   "metadata": {},
   "source": [
    "*Insights*\n",
    "* High number of calls and more minutes might cause the high number of churn."
   ]
  },
  {
   "cell_type": "code",
   "execution_count": 81,
   "id": "90c3762f",
   "metadata": {},
   "outputs": [
    {
     "data": {
      "image/png": "[encoded data removed]",
      "text/plain": [
       "<Figure size 800x600 with 1 Axes>"
      ]
     },
     "metadata": {},
     "output_type": "display_data"
    }
   ],
   "source": [
    "plt.figure(figsize=(8, 6))\n",
    "sns.histplot(data=df, x='total calls', hue='churn', bins=30, kde=False, multiple='stack')\n",
    "plt.title('Histogram of Churn by Total Calls')\n",
    "plt.xlabel('Total Calls')\n",
    "plt.ylabel('Count')\n",
    "plt.legend(title='Churn', labels=['Yes', 'No'])\n",
    "plt.tight_layout()\n",
    "plt.show()\n"
   ]
  },
  {
   "cell_type": "markdown",
   "id": "8493dd07",
   "metadata": {},
   "source": [
    "*Insights*\n",
    "* Customers with very low number of calls are more likely to churn"
   ]
  },
  {
   "cell_type": "markdown",
   "id": "017c4ee5",
   "metadata": {},
   "source": [
    "### Bivariate Analysis"
   ]
  },
  {
   "cell_type": "markdown",
   "id": "f849414d",
   "metadata": {},
   "source": [
    "### Churn rate by voice mail plan and international plan"
   ]
  },
  {
   "cell_type": "code",
   "execution_count": 82,
   "id": "29da541d",
   "metadata": {},
   "outputs": [
    {
     "name": "stdout",
     "output_type": "stream",
     "text": [
      "voice mail plan  international plan\n",
      "0                0                     0.138532\n",
      "                 1                     0.437229\n",
      "1                0                     0.053012\n",
      "                 1                     0.391304\n",
      "Name: churn, dtype: float64\n"
     ]
    }
   ],
   "source": [
    "# print churn rate by voice mail plan and international plan\n",
    "print(df.groupby(['voice mail plan', 'international plan'])['churn'].mean())#end='\\n\\n')\n"
   ]
  },
  {
   "cell_type": "markdown",
   "id": "d710b234",
   "metadata": {},
   "source": [
    "Visualization"
   ]
  },
  {
   "cell_type": "code",
   "execution_count": 83,
   "id": "3fd54674",
   "metadata": {},
   "outputs": [
    {
     "data": {
      "image/png": "[encoded data removed]",
      "text/plain": [
       "<Figure size 1000x600 with 1 Axes>"
      ]
     },
     "metadata": {},
     "output_type": "display_data"
    }
   ],
   "source": [
    "# Calculate churn percentage\n",
    "churn_percentage = df.groupby(['voice mail plan', 'international plan'])['churn'].mean() * 100\n",
    "\n",
    "# Plot the churn percentage\n",
    "churn_percentage.unstack().plot(kind='bar', figsize=(10, 6), color=['blue', 'maroon'])\n",
    "plt.title('Churn Percentage by Voice Mail and International Plans')\n",
    "plt.xlabel('Voice Mail Plan')\n",
    "plt.ylabel('Churn Percentage')\n",
    "plt.xticks(rotation=0)\n",
    "plt.legend(title='International Plan')\n",
    "plt.show()"
   ]
  },
  {
   "cell_type": "markdown",
   "id": "d0dee78f",
   "metadata": {},
   "source": [
    "*Interpretation*\n",
    "* Customers without an international plan (blue bars )but have voice mail plan (yes)have low churn percentage\n",
    "* For customers with an international plan, presence of voice mail plan small impact on churn.\n"
   ]
  },
  {
   "cell_type": "markdown",
   "id": "e2810c29",
   "metadata": {},
   "source": [
    "*Insights*\n",
    "* International plan seems to strongly cause churn.\n",
    "* For customers without an international plan, offering them voice mail plan may retain them."
   ]
  },
  {
   "cell_type": "markdown",
   "id": "5dbf7f3e",
   "metadata": {},
   "source": [
    "A similar visualization on different axes"
   ]
  },
  {
   "cell_type": "code",
   "execution_count": 84,
   "id": "b43f07fb",
   "metadata": {},
   "outputs": [
    {
     "data": {
      "image/png": "[encoded data removed]",
      "text/plain": [
       "<Figure size 1200x500 with 2 Axes>"
      ]
     },
     "metadata": {},
     "output_type": "display_data"
    }
   ],
   "source": [
    "# Visualize the effect of international plan and voice mail plan on customer satisfaction (churn)\n",
    "fig, axes = plt.subplots(1, 2, figsize=(12, 5))\n",
    "\n",
    "# International plan vs churn\n",
    "sns.barplot(x='international plan', y='churn', data=df, ax=axes[0], errorbar=None, palette='viridis')\n",
    "axes[0].set_title('Churn Rate by International Plan')\n",
    "axes[0].set_xlabel('International Plan (0=No, 1=Yes)')\n",
    "axes[0].set_ylabel('Churn Rate')\n",
    "\n",
    "# Voice mail plan vs churn\n",
    "sns.barplot(x='voice mail plan', y='churn', data=df, ax=axes[1], errorbar=None, palette='plasma')\n",
    "axes[1].set_title('Churn Rate by Voice Mail Plan')\n",
    "axes[1].set_xlabel('Voice Mail Plan (0=No, 1=Yes)')\n",
    "axes[1].set_ylabel('Churn Rate')\n",
    "\n",
    "plt.tight_layout()\n",
    "plt.show()"
   ]
  },
  {
   "cell_type": "markdown",
   "id": "03fa5217",
   "metadata": {},
   "source": [
    "### Churn by Customer service calls"
   ]
  },
  {
   "cell_type": "code",
   "execution_count": 85,
   "id": "5790b6e9",
   "metadata": {},
   "outputs": [
    {
     "data": {
      "application/vnd.microsoft.datawrangler.viewer.v0+json": {
       "columns": [
        {
         "name": "churn",
         "rawType": "bool",
         "type": "boolean"
        },
        {
         "name": "count",
         "rawType": "float64",
         "type": "float"
        },
        {
         "name": "mean",
         "rawType": "float64",
         "type": "float"
        },
        {
         "name": "std",
         "rawType": "float64",
         "type": "float"
        },
        {
         "name": "min",
         "rawType": "float64",
         "type": "float"
        },
        {
         "name": "25%",
         "rawType": "float64",
         "type": "float"
        },
        {
         "name": "50%",
         "rawType": "float64",
         "type": "float"
        },
        {
         "name": "75%",
         "rawType": "float64",
         "type": "float"
        },
        {
         "name": "max",
         "rawType": "float64",
         "type": "float"
        }
       ],
       "conversionMethod": "pd.DataFrame",
       "ref": "3fd5f819-2db9-44a6-a9ee-10848508e4b4",
       "rows": [
        [
         "False",
         "2850.0",
         "1.4498245614035088",
         "1.1638833269855382",
         "0.0",
         "1.0",
         "1.0",
         "2.0",
         "8.0"
        ],
        [
         "True",
         "483.0",
         "2.229813664596273",
         "1.8532749319800983",
         "0.0",
         "1.0",
         "2.0",
         "4.0",
         "9.0"
        ]
       ],
       "shape": {
        "columns": 8,
        "rows": 2
       }
      },
      "text/html": [
       "<div>\n",
       "<style scoped>\n",
       "    .dataframe tbody tr th:only-of-type {\n",
       "        vertical-align: middle;\n",
       "    }\n",
       "\n",
       "    .dataframe tbody tr th {\n",
       "        vertical-align: top;\n",
       "    }\n",
       "\n",
       "    .dataframe thead th {\n",
       "        text-align: right;\n",
       "    }\n",
       "</style>\n",
       "<table border=\"1\" class=\"dataframe\">\n",
       "  <thead>\n",
       "    <tr style=\"text-align: right;\">\n",
       "      <th></th>\n",
       "      <th>count</th>\n",
       "      <th>mean</th>\n",
       "      <th>std</th>\n",
       "      <th>min</th>\n",
       "      <th>25%</th>\n",
       "      <th>50%</th>\n",
       "      <th>75%</th>\n",
       "      <th>max</th>\n",
       "    </tr>\n",
       "    <tr>\n",
       "      <th>churn</th>\n",
       "      <th></th>\n",
       "      <th></th>\n",
       "      <th></th>\n",
       "      <th></th>\n",
       "      <th></th>\n",
       "      <th></th>\n",
       "      <th></th>\n",
       "      <th></th>\n",
       "    </tr>\n",
       "  </thead>\n",
       "  <tbody>\n",
       "    <tr>\n",
       "      <th>False</th>\n",
       "      <td>2850.0</td>\n",
       "      <td>1.449825</td>\n",
       "      <td>1.163883</td>\n",
       "      <td>0.0</td>\n",
       "      <td>1.0</td>\n",
       "      <td>1.0</td>\n",
       "      <td>2.0</td>\n",
       "      <td>8.0</td>\n",
       "    </tr>\n",
       "    <tr>\n",
       "      <th>True</th>\n",
       "      <td>483.0</td>\n",
       "      <td>2.229814</td>\n",
       "      <td>1.853275</td>\n",
       "      <td>0.0</td>\n",
       "      <td>1.0</td>\n",
       "      <td>2.0</td>\n",
       "      <td>4.0</td>\n",
       "      <td>9.0</td>\n",
       "    </tr>\n",
       "  </tbody>\n",
       "</table>\n",
       "</div>"
      ],
      "text/plain": [
       "        count      mean       std  min  25%  50%  75%  max\n",
       "churn                                                     \n",
       "False  2850.0  1.449825  1.163883  0.0  1.0  1.0  2.0  8.0\n",
       "True    483.0  2.229814  1.853275  0.0  1.0  2.0  4.0  9.0"
      ]
     },
     "execution_count": 85,
     "metadata": {},
     "output_type": "execute_result"
    }
   ],
   "source": [
    "# check churn by customer service calls\n",
    "df.groupby('churn')['customer service calls'].describe()"
   ]
  },
  {
   "cell_type": "code",
   "execution_count": 86,
   "id": "be3cc5e5",
   "metadata": {},
   "outputs": [
    {
     "data": {
      "image/png": "[encoded data removed]",
      "text/plain": [
       "<Figure size 640x480 with 1 Axes>"
      ]
     },
     "metadata": {},
     "output_type": "display_data"
    }
   ],
   "source": [
    "# Visualize customer service churn\n",
    "fig, ax = plt.subplots()\n",
    "avg_calls = df.groupby('churn')['customer service calls'].mean()\n",
    "avg_calls.plot(kind='bar', ax=ax, label='')\n",
    "ax.axhline(y=df['customer service calls'].mean(),c='black', label='dataset mean')\n",
    "ax.legend()\n",
    "ax.set_title('mean customer service calls on churn')\n",
    "ax.set_ylabel('customer service calls (mean)', rotation = 90)\n",
    "\n",
    "for p in ax.patches:\n",
    "    width, height = p.get_width(), p.get_height()\n",
    "    ax.annotate('{:.2f}'.format(height), (p.get_x()+.35*width, p.get_y()+.5*height), color = 'white', weight = 'bold', size = 14)\n",
    "\n",
    "plt.tight_layout()\n",
    "plt.show()"
   ]
  },
  {
   "cell_type": "markdown",
   "id": "4764fa3a",
   "metadata": {},
   "source": [
    "*Interpretation*\n",
    "* Disloyal customers made more calls than loyal customers\n",
    "* Average number of calls made by disloyal customers is higher (2.23) than the dataset mean approximately (1.6)"
   ]
  },
  {
   "cell_type": "markdown",
   "id": "2c316534",
   "metadata": {},
   "source": [
    "*Insights*\n",
    "* Dissatisfied customers may tend to make more calls to customer service and eventually churn"
   ]
  },
  {
   "cell_type": "code",
   "execution_count": 87,
   "id": "4c9f46a0",
   "metadata": {},
   "outputs": [
    {
     "data": {
      "image/png": "[encoded data removed]",
      "text/plain": [
       "<Figure size 640x480 with 1 Axes>"
      ]
     },
     "metadata": {},
     "output_type": "display_data"
    }
   ],
   "source": [
    "sns.barplot(y='number vmail messages', x='churn', data=df, errorbar=None, palette='inferno')\n",
    "plt.title('Relationship Between Number of Voicemail Messages and Churn')\n",
    "plt.xlabel('Number of Voicemail Messages')\n",
    "plt.ylabel('Churn Rate')\n",
    "plt.xticks(rotation=90)\n",
    "plt.tight_layout()\n",
    "plt.show()"
   ]
  },
  {
   "cell_type": "markdown",
   "id": "f9c32797",
   "metadata": {},
   "source": [
    "*Interpretation*\n",
    "* Loyal customers(not churned) have high number of voice messages compared to disloyal(churned)\n",
    "* Disloyal custumers have lower voicemail messages"
   ]
  },
  {
   "cell_type": "markdown",
   "id": "96ab6fee",
   "metadata": {},
   "source": [
    "*Insights*\n",
    "* Customers actively using voicemail messages are engaged probably satisfied with the service and less likely to churn\n",
    "* Customers less engaged are likely dissatisfied with the service raising the probability to churn "
   ]
  },
  {
   "cell_type": "markdown",
   "id": "c017d378",
   "metadata": {},
   "source": [
    "## Data Preparation"
   ]
  },
  {
   "cell_type": "markdown",
   "id": "138a55ee",
   "metadata": {},
   "source": [
    "### Preprocessing"
   ]
  },
  {
   "cell_type": "code",
   "execution_count": 88,
   "id": "4a8675c0",
   "metadata": {},
   "outputs": [
    {
     "name": "stdout",
     "output_type": "stream",
     "text": [
      "<class 'pandas.core.frame.DataFrame'>\n",
      "RangeIndex: 3333 entries, 0 to 3332\n",
      "Data columns (total 2 columns):\n",
      " #   Column  Non-Null Count  Dtype \n",
      "---  ------  --------------  ----- \n",
      " 0   state   3333 non-null   object\n",
      " 1   churn   3333 non-null   bool  \n",
      "dtypes: bool(1), object(1)\n",
      "memory usage: 29.4+ KB\n"
     ]
    }
   ],
   "source": [
    "# define categorical columns\n",
    "categorical_columns = df[df.select_dtypes(exclude=['number']).columns]\n",
    "\n",
    "# view categorical columns\n",
    "categorical_columns.info()"
   ]
  },
  {
   "cell_type": "markdown",
   "id": "32df5efe",
   "metadata": {},
   "source": [
    "Use One-hot Encoding to get dummies"
   ]
  },
  {
   "cell_type": "code",
   "execution_count": 89,
   "id": "bc716af6",
   "metadata": {},
   "outputs": [
    {
     "name": "stdout",
     "output_type": "stream",
     "text": [
      "<class 'pandas.core.frame.DataFrame'>\n",
      "RangeIndex: 3333 entries, 0 to 3332\n",
      "Data columns (total 68 columns):\n",
      " #   Column                  Non-Null Count  Dtype\n",
      "---  ------                  --------------  -----\n",
      " 0   account length          3333 non-null   int64\n",
      " 1   international plan      3333 non-null   int64\n",
      " 2   voice mail plan         3333 non-null   int64\n",
      " 3   number vmail messages   3333 non-null   int64\n",
      " 4   total day minutes       3333 non-null   int64\n",
      " 5   total day calls         3333 non-null   int64\n",
      " 6   total eve minutes       3333 non-null   int64\n",
      " 7   total eve calls         3333 non-null   int64\n",
      " 8   total night minutes     3333 non-null   int64\n",
      " 9   total night calls       3333 non-null   int64\n",
      " 10  total intl minutes      3333 non-null   int64\n",
      " 11  total intl calls        3333 non-null   int64\n",
      " 12  customer service calls  3333 non-null   int64\n",
      " 13  churn                   3333 non-null   int64\n",
      " 14  total calls             3333 non-null   int64\n",
      " 15  total minutes           3333 non-null   int64\n",
      " 16  state_AL                3333 non-null   int64\n",
      " 17  state_AR                3333 non-null   int64\n",
      " 18  state_AZ                3333 non-null   int64\n",
      " 19  state_CA                3333 non-null   int64\n",
      " 20  state_CO                3333 non-null   int64\n",
      " 21  state_CT                3333 non-null   int64\n",
      " 22  state_DC                3333 non-null   int64\n",
      " 23  state_DE                3333 non-null   int64\n",
      " 24  state_FL                3333 non-null   int64\n",
      " 25  state_GA                3333 non-null   int64\n",
      " 26  state_HI                3333 non-null   int64\n",
      " 27  state_IA                3333 non-null   int64\n",
      " 28  state_ID                3333 non-null   int64\n",
      " 29  state_IL                3333 non-null   int64\n",
      " 30  state_IN                3333 non-null   int64\n",
      " 31  state_KS                3333 non-null   int64\n",
      " 32  state_KY                3333 non-null   int64\n",
      " 33  state_LA                3333 non-null   int64\n",
      " 34  state_MA                3333 non-null   int64\n",
      " 35  state_MD                3333 non-null   int64\n",
      " 36  state_ME                3333 non-null   int64\n",
      " 37  state_MI                3333 non-null   int64\n",
      " 38  state_MN                3333 non-null   int64\n",
      " 39  state_MO                3333 non-null   int64\n",
      " 40  state_MS                3333 non-null   int64\n",
      " 41  state_MT                3333 non-null   int64\n",
      " 42  state_NC                3333 non-null   int64\n",
      " 43  state_ND                3333 non-null   int64\n",
      " 44  state_NE                3333 non-null   int64\n",
      " 45  state_NH                3333 non-null   int64\n",
      " 46  state_NJ                3333 non-null   int64\n",
      " 47  state_NM                3333 non-null   int64\n",
      " 48  state_NV                3333 non-null   int64\n",
      " 49  state_NY                3333 non-null   int64\n",
      " 50  state_OH                3333 non-null   int64\n",
      " 51  state_OK                3333 non-null   int64\n",
      " 52  state_OR                3333 non-null   int64\n",
      " 53  state_PA                3333 non-null   int64\n",
      " 54  state_RI                3333 non-null   int64\n",
      " 55  state_SC                3333 non-null   int64\n",
      " 56  state_SD                3333 non-null   int64\n",
      " 57  state_TN                3333 non-null   int64\n",
      " 58  state_TX                3333 non-null   int64\n",
      " 59  state_UT                3333 non-null   int64\n",
      " 60  state_VA                3333 non-null   int64\n",
      " 61  state_VT                3333 non-null   int64\n",
      " 62  state_WA                3333 non-null   int64\n",
      " 63  state_WI                3333 non-null   int64\n",
      " 64  state_WV                3333 non-null   int64\n",
      " 65  state_WY                3333 non-null   int64\n",
      " 66  area code_415           3333 non-null   int64\n",
      " 67  area code_510           3333 non-null   int64\n",
      "dtypes: int64(68)\n",
      "memory usage: 1.7 MB\n"
     ]
    }
   ],
   "source": [
    "# use one hot encoding on state and convert to integer\n",
    "state_dummy = pd.get_dummies(df, columns=[\"state\", 'area code'],drop_first=True)\n",
    "\n",
    "state_dummy = state_dummy.astype(int)\n",
    "state_dummy.info()"
   ]
  },
  {
   "cell_type": "markdown",
   "id": "3bec24d0",
   "metadata": {},
   "source": [
    "Scale the data to unit variance"
   ]
  },
  {
   "cell_type": "code",
   "execution_count": 90,
   "id": "414fcc52",
   "metadata": {},
   "outputs": [
    {
     "name": "stdout",
     "output_type": "stream",
     "text": [
      "   account length  area code  international plan  voice mail plan  \\\n",
      "0        0.676489  -0.523603           -0.327580         1.617086   \n",
      "1        0.149065  -0.523603           -0.327580         1.617086   \n",
      "2        0.902529  -0.523603           -0.327580        -0.618396   \n",
      "3       -0.428590  -0.688834            3.052685        -0.618396   \n",
      "4       -0.654629  -0.523603            3.052685        -0.618396   \n",
      "\n",
      "   number vmail messages  total day minutes  total day calls  \\\n",
      "0               1.234883           1.566767         0.476643   \n",
      "1               1.307948          -0.333738         1.124503   \n",
      "2              -0.591760           1.168304         0.675985   \n",
      "3              -0.591760           2.196596        -1.466936   \n",
      "4              -0.591760          -0.240090         0.626149   \n",
      "\n",
      "   total eve minutes  total eve calls  total night minutes  total night calls  \\\n",
      "0          -0.070610        -0.055940             0.866743          -0.465494   \n",
      "1          -0.108080         0.144867             1.058571           0.147825   \n",
      "2          -1.573383         0.496279            -0.756869           0.198935   \n",
      "3          -2.742865        -0.608159            -0.078551          -0.567714   \n",
      "4          -1.038932         1.098699            -0.276311           1.067803   \n",
      "\n",
      "   total intl minutes  total intl calls  customer service calls  total calls  \\\n",
      "0           -0.085008         -0.601195               -0.427932    -0.078387   \n",
      "1            1.240482         -0.601195               -0.427932     0.763554   \n",
      "2            0.703121          0.211534               -1.188218     0.763554   \n",
      "3           -1.303026          1.024263                0.332354    -1.442912   \n",
      "4           -0.049184         -0.601195                1.092641     1.605495   \n",
      "\n",
      "   total minutes  \n",
      "0       1.393531  \n",
      "1       0.370635  \n",
      "2      -0.583326  \n",
      "3      -0.300918  \n",
      "4      -0.887971  \n"
     ]
    }
   ],
   "source": [
    "#using standard scaler to make values same unit\n",
    "numeric_features = df.select_dtypes(include=['number'])\n",
    "\n",
    "# instantiate standard scaler\n",
    "scaler = StandardScaler()\n",
    "scaled_features = scaler.fit_transform(numeric_features)\n",
    "scaled_features_df = pd.DataFrame(scaled_features, columns=numeric_features.columns)\n",
    "print(scaled_features_df.head())"
   ]
  },
  {
   "cell_type": "markdown",
   "id": "49897eb4",
   "metadata": {},
   "source": [
    "Combine the datasets"
   ]
  },
  {
   "cell_type": "code",
   "execution_count": 91,
   "id": "61c0cec6",
   "metadata": {},
   "outputs": [
    {
     "name": "stdout",
     "output_type": "stream",
     "text": [
      "<class 'pandas.core.frame.DataFrame'>\n",
      "RangeIndex: 3333 entries, 0 to 3332\n",
      "Data columns (total 84 columns):\n",
      " #   Column                  Non-Null Count  Dtype  \n",
      "---  ------                  --------------  -----  \n",
      " 0   account length          3333 non-null   int64  \n",
      " 1   international plan      3333 non-null   int64  \n",
      " 2   voice mail plan         3333 non-null   int64  \n",
      " 3   number vmail messages   3333 non-null   int64  \n",
      " 4   total day minutes       3333 non-null   int64  \n",
      " 5   total day calls         3333 non-null   int64  \n",
      " 6   total eve minutes       3333 non-null   int64  \n",
      " 7   total eve calls         3333 non-null   int64  \n",
      " 8   total night minutes     3333 non-null   int64  \n",
      " 9   total night calls       3333 non-null   int64  \n",
      " 10  total intl minutes      3333 non-null   int64  \n",
      " 11  total intl calls        3333 non-null   int64  \n",
      " 12  customer service calls  3333 non-null   int64  \n",
      " 13  churn                   3333 non-null   int64  \n",
      " 14  total calls             3333 non-null   int64  \n",
      " 15  total minutes           3333 non-null   int64  \n",
      " 16  state_AL                3333 non-null   int64  \n",
      " 17  state_AR                3333 non-null   int64  \n",
      " 18  state_AZ                3333 non-null   int64  \n",
      " 19  state_CA                3333 non-null   int64  \n",
      " 20  state_CO                3333 non-null   int64  \n",
      " 21  state_CT                3333 non-null   int64  \n",
      " 22  state_DC                3333 non-null   int64  \n",
      " 23  state_DE                3333 non-null   int64  \n",
      " 24  state_FL                3333 non-null   int64  \n",
      " 25  state_GA                3333 non-null   int64  \n",
      " 26  state_HI                3333 non-null   int64  \n",
      " 27  state_IA                3333 non-null   int64  \n",
      " 28  state_ID                3333 non-null   int64  \n",
      " 29  state_IL                3333 non-null   int64  \n",
      " 30  state_IN                3333 non-null   int64  \n",
      " 31  state_KS                3333 non-null   int64  \n",
      " 32  state_KY                3333 non-null   int64  \n",
      " 33  state_LA                3333 non-null   int64  \n",
      " 34  state_MA                3333 non-null   int64  \n",
      " 35  state_MD                3333 non-null   int64  \n",
      " 36  state_ME                3333 non-null   int64  \n",
      " 37  state_MI                3333 non-null   int64  \n",
      " 38  state_MN                3333 non-null   int64  \n",
      " 39  state_MO                3333 non-null   int64  \n",
      " 40  state_MS                3333 non-null   int64  \n",
      " 41  state_MT                3333 non-null   int64  \n",
      " 42  state_NC                3333 non-null   int64  \n",
      " 43  state_ND                3333 non-null   int64  \n",
      " 44  state_NE                3333 non-null   int64  \n",
      " 45  state_NH                3333 non-null   int64  \n",
      " 46  state_NJ                3333 non-null   int64  \n",
      " 47  state_NM                3333 non-null   int64  \n",
      " 48  state_NV                3333 non-null   int64  \n",
      " 49  state_NY                3333 non-null   int64  \n",
      " 50  state_OH                3333 non-null   int64  \n",
      " 51  state_OK                3333 non-null   int64  \n",
      " 52  state_OR                3333 non-null   int64  \n",
      " 53  state_PA                3333 non-null   int64  \n",
      " 54  state_RI                3333 non-null   int64  \n",
      " 55  state_SC                3333 non-null   int64  \n",
      " 56  state_SD                3333 non-null   int64  \n",
      " 57  state_TN                3333 non-null   int64  \n",
      " 58  state_TX                3333 non-null   int64  \n",
      " 59  state_UT                3333 non-null   int64  \n",
      " 60  state_VA                3333 non-null   int64  \n",
      " 61  state_VT                3333 non-null   int64  \n",
      " 62  state_WA                3333 non-null   int64  \n",
      " 63  state_WI                3333 non-null   int64  \n",
      " 64  state_WV                3333 non-null   int64  \n",
      " 65  state_WY                3333 non-null   int64  \n",
      " 66  area code_415           3333 non-null   int64  \n",
      " 67  area code_510           3333 non-null   int64  \n",
      " 68  account length          3333 non-null   float64\n",
      " 69  area code               3333 non-null   float64\n",
      " 70  international plan      3333 non-null   float64\n",
      " 71  voice mail plan         3333 non-null   float64\n",
      " 72  number vmail messages   3333 non-null   float64\n",
      " 73  total day minutes       3333 non-null   float64\n",
      " 74  total day calls         3333 non-null   float64\n",
      " 75  total eve minutes       3333 non-null   float64\n",
      " 76  total eve calls         3333 non-null   float64\n",
      " 77  total night minutes     3333 non-null   float64\n",
      " 78  total night calls       3333 non-null   float64\n",
      " 79  total intl minutes      3333 non-null   float64\n",
      " 80  total intl calls        3333 non-null   float64\n",
      " 81  customer service calls  3333 non-null   float64\n",
      " 82  total calls             3333 non-null   float64\n",
      " 83  total minutes           3333 non-null   float64\n",
      "dtypes: float64(16), int64(68)\n",
      "memory usage: 2.1 MB\n"
     ]
    }
   ],
   "source": [
    "# combine state dummies with scaled features df\n",
    "df_combined = pd.concat([state_dummy, scaled_features_df], axis=1)\n",
    "df_combined.info()"
   ]
  },
  {
   "cell_type": "markdown",
   "id": "03b2a862",
   "metadata": {},
   "source": [
    "### Split the data into training and testing"
   ]
  },
  {
   "cell_type": "code",
   "execution_count": 92,
   "id": "167a5c9f",
   "metadata": {},
   "outputs": [
    {
     "name": "stdout",
     "output_type": "stream",
     "text": [
      "Training set size: (2666, 83)\n",
      "Testing set size: (667, 83)\n"
     ]
    }
   ],
   "source": [
    "# name the predictor and the target variables\n",
    "X = df_combined.drop(columns=['churn'], axis=1)\n",
    "y = df['churn']\n",
    "\n",
    "# Split the data into training and testing sets\n",
    "X_train, X_test, y_train, y_test = train_test_split(X, y, test_size=0.2, random_state=42)\n",
    "target_names = ['False.', 'True']\n",
    "\n",
    "print(\"Training set size:\", X_train.shape)\n",
    "print(\"Testing set size:\", X_test.shape)"
   ]
  },
  {
   "cell_type": "markdown",
   "id": "208ec2cc",
   "metadata": {},
   "source": [
    "Use Logistic Regression to create base model"
   ]
  },
  {
   "cell_type": "code",
   "execution_count": 93,
   "id": "78d91e45",
   "metadata": {},
   "outputs": [],
   "source": [
    "# use Logistic regression\n",
    "lr = LogisticRegression(max_iter=6000)\n",
    "\n",
    "# fit and train the model\n",
    "lr.fit(X_train, y_train)\n",
    "\n",
    "#prediction\n",
    "y_pred_1 = lr.predict(X_test)"
   ]
  },
  {
   "cell_type": "code",
   "execution_count": 94,
   "id": "7d508663",
   "metadata": {},
   "outputs": [
    {
     "name": "stdout",
     "output_type": "stream",
     "text": [
      "              precision    recall  f1-score   support\n",
      "\n",
      "      False.       0.87      0.97      0.92       566\n",
      "        True       0.54      0.19      0.28       101\n",
      "\n",
      "    accuracy                           0.85       667\n",
      "   macro avg       0.71      0.58      0.60       667\n",
      "weighted avg       0.82      0.85      0.82       667\n",
      "\n"
     ]
    }
   ],
   "source": [
    "# print the report\n",
    "print(classification_report(y_test, y_pred_1, target_names=target_names))"
   ]
  },
  {
   "cell_type": "code",
   "execution_count": 95,
   "id": "e9bc2188",
   "metadata": {},
   "outputs": [
    {
     "name": "stdout",
     "output_type": "stream",
     "text": [
      "F1 score: 0.27941176470588236, \n",
      " Recall: 0.18811881188118812, \n",
      " Precision: 0.5428571428571428, \n",
      " Accuracy: 0.8530734632683659\n"
     ]
    }
   ],
   "source": [
    "# Evaluate the model perfomance\n",
    "acc_lr = accuracy_score(y_test, y_pred_1)\n",
    "f1_lr = f1_score(y_test, y_pred_1)\n",
    "recall_lr = recall_score(y_test, y_pred_1)\n",
    "precision_lr = precision_score(y_test, y_pred_1)\n",
    "\n",
    "print(f\"F1 score: {f1_lr}, \\n Recall: {recall_lr}, \\n Precision: {precision_lr}, \\n Accuracy: {acc_lr}\")\n"
   ]
  },
  {
   "cell_type": "markdown",
   "id": "3fcc6bcd",
   "metadata": {},
   "source": [
    "*Interpretation*\n",
    "\n",
    "* Precision - The model correctly predicts that 54% of the instances a customer churned\n",
    "* Recall - The model is fails to correctly predict customers who churned.\n",
    "* Accuracy - The model's accuracy is 85%, meaning it can be improved by balancing classes\n",
    "\n",
    "* Class imbalance - support of 'False' 566 and 'True' 101"
   ]
  },
  {
   "cell_type": "code",
   "execution_count": 96,
   "id": "2a0cbe76",
   "metadata": {},
   "outputs": [
    {
     "data": {
      "image/png": "[encoded data removed]",
      "text/plain": [
       "<Figure size 640x480 with 2 Axes>"
      ]
     },
     "metadata": {},
     "output_type": "display_data"
    }
   ],
   "source": [
    "# Create a confusion matrix\n",
    "ConfusionMatrixDisplay.from_predictions(y_test, y_pred_1)\n",
    "plt.title(\"Confusion Matrix - Logistic Regression\")\n",
    "plt.show()\n"
   ]
  },
  {
   "cell_type": "markdown",
   "id": "0f8d5d16",
   "metadata": {},
   "source": [
    "\n",
    "* The model is biased towards predicting the majority class and fails to effectively predict the minority class"
   ]
  },
  {
   "cell_type": "markdown",
   "id": "3c92e11d",
   "metadata": {},
   "source": [
    "### Apply SMOTE to solve class imbalance"
   ]
  },
  {
   "cell_type": "code",
   "execution_count": 97,
   "id": "085d55cf",
   "metadata": {},
   "outputs": [
    {
     "name": "stdout",
     "output_type": "stream",
     "text": [
      "Original class distribution: \n",
      "\n",
      "churn\n",
      "False    2850\n",
      "True      483\n",
      "Name: count, dtype: int64\n",
      "-----------------------------------------\n",
      "Synthetic sample class distribution: \n",
      "\n",
      "churn\n",
      "False    2284\n",
      "True     2284\n",
      "Name: count, dtype: int64\n"
     ]
    }
   ],
   "source": [
    "# Previous original class distribution\n",
    "print('Original class distribution: \\n')\n",
    "print(y.value_counts())\n",
    "smote = SMOTE()\n",
    "X_train_resampled, y_train_resampled = smote.fit_resample(X_train, y_train) \n",
    "# Preview synthetic sample class distribution\n",
    "print('-----------------------------------------')\n",
    "print('Synthetic sample class distribution: \\n')\n",
    "print(pd.Series(y_train_resampled).value_counts()) "
   ]
  },
  {
   "cell_type": "markdown",
   "id": "37d5198e",
   "metadata": {},
   "source": [
    "The data is balanced"
   ]
  },
  {
   "cell_type": "code",
   "execution_count": 98,
   "id": "948a3b4c",
   "metadata": {},
   "outputs": [
    {
     "data": {
      "text/html": [
       "<style>#sk-container-id-3 {\n",
       "  /* Definition of color scheme common for light and dark mode */\n",
       "  --sklearn-color-text: #000;\n",
       "  --sklearn-color-text-muted: #666;\n",
       "  --sklearn-color-line: gray;\n",
       "  /* Definition of color scheme for unfitted estimators */\n",
       "  --sklearn-color-unfitted-level-0: #fff5e6;\n",
       "  --sklearn-color-unfitted-level-1: #f6e4d2;\n",
       "  --sklearn-color-unfitted-level-2: #ffe0b3;\n",
       "  --sklearn-color-unfitted-level-3: chocolate;\n",
       "  /* Definition of color scheme for fitted estimators */\n",
       "  --sklearn-color-fitted-level-0: #f0f8ff;\n",
       "  --sklearn-color-fitted-level-1: #d4ebff;\n",
       "  --sklearn-color-fitted-level-2: #b3dbfd;\n",
       "  --sklearn-color-fitted-level-3: cornflowerblue;\n",
       "\n",
       "  /* Specific color for light theme */\n",
       "  --sklearn-color-text-on-default-background: var(--sg-text-color, var(--theme-code-foreground, var(--jp-content-font-color1, black)));\n",
       "  --sklearn-color-background: var(--sg-background-color, var(--theme-background, var(--jp-layout-color0, white)));\n",
       "  --sklearn-color-border-box: var(--sg-text-color, var(--theme-code-foreground, var(--jp-content-font-color1, black)));\n",
       "  --sklearn-color-icon: #696969;\n",
       "\n",
       "  @media (prefers-color-scheme: dark) {\n",
       "    /* Redefinition of color scheme for dark theme */\n",
       "    --sklearn-color-text-on-default-background: var(--sg-text-color, var(--theme-code-foreground, var(--jp-content-font-color1, white)));\n",
       "    --sklearn-color-background: var(--sg-background-color, var(--theme-background, var(--jp-layout-color0, #111)));\n",
       "    --sklearn-color-border-box: var(--sg-text-color, var(--theme-code-foreground, var(--jp-content-font-color1, white)));\n",
       "    --sklearn-color-icon: #878787;\n",
       "  }\n",
       "}\n",
       "\n",
       "#sk-container-id-3 {\n",
       "  color: var(--sklearn-color-text);\n",
       "}\n",
       "\n",
       "#sk-container-id-3 pre {\n",
       "  padding: 0;\n",
       "}\n",
       "\n",
       "#sk-container-id-3 input.sk-hidden--visually {\n",
       "  border: 0;\n",
       "  clip: rect(1px 1px 1px 1px);\n",
       "  clip: rect(1px, 1px, 1px, 1px);\n",
       "  height: 1px;\n",
       "  margin: -1px;\n",
       "  overflow: hidden;\n",
       "  padding: 0;\n",
       "  position: absolute;\n",
       "  width: 1px;\n",
       "}\n",
       "\n",
       "#sk-container-id-3 div.sk-dashed-wrapped {\n",
       "  border: 1px dashed var(--sklearn-color-line);\n",
       "  margin: 0 0.4em 0.5em 0.4em;\n",
       "  box-sizing: border-box;\n",
       "  padding-bottom: 0.4em;\n",
       "  background-color: var(--sklearn-color-background);\n",
       "}\n",
       "\n",
       "#sk-container-id-3 div.sk-container {\n",
       "  /* jupyter's `normalize.less` sets `[hidden] { display: none; }`\n",
       "     but bootstrap.min.css set `[hidden] { display: none !important; }`\n",
       "     so we also need the `!important` here to be able to override the\n",
       "     default hidden behavior on the sphinx rendered scikit-learn.org.\n",
       "     See: https://github.com/scikit-learn/scikit-learn/issues/21755 */\n",
       "  display: inline-block !important;\n",
       "  position: relative;\n",
       "}\n",
       "\n",
       "#sk-container-id-3 div.sk-text-repr-fallback {\n",
       "  display: none;\n",
       "}\n",
       "\n",
       "div.sk-parallel-item,\n",
       "div.sk-serial,\n",
       "div.sk-item {\n",
       "  /* draw centered vertical line to link estimators */\n",
       "  background-image: linear-gradient(var(--sklearn-color-text-on-default-background), var(--sklearn-color-text-on-default-background));\n",
       "  background-size: 2px 100%;\n",
       "  background-repeat: no-repeat;\n",
       "  background-position: center center;\n",
       "}\n",
       "\n",
       "/* Parallel-specific style estimator block */\n",
       "\n",
       "#sk-container-id-3 div.sk-parallel-item::after {\n",
       "  content: \"\";\n",
       "  width: 100%;\n",
       "  border-bottom: 2px solid var(--sklearn-color-text-on-default-background);\n",
       "  flex-grow: 1;\n",
       "}\n",
       "\n",
       "#sk-container-id-3 div.sk-parallel {\n",
       "  display: flex;\n",
       "  align-items: stretch;\n",
       "  justify-content: center;\n",
       "  background-color: var(--sklearn-color-background);\n",
       "  position: relative;\n",
       "}\n",
       "\n",
       "#sk-container-id-3 div.sk-parallel-item {\n",
       "  display: flex;\n",
       "  flex-direction: column;\n",
       "}\n",
       "\n",
       "#sk-container-id-3 div.sk-parallel-item:first-child::after {\n",
       "  align-self: flex-end;\n",
       "  width: 50%;\n",
       "}\n",
       "\n",
       "#sk-container-id-3 div.sk-parallel-item:last-child::after {\n",
       "  align-self: flex-start;\n",
       "  width: 50%;\n",
       "}\n",
       "\n",
       "#sk-container-id-3 div.sk-parallel-item:only-child::after {\n",
       "  width: 0;\n",
       "}\n",
       "\n",
       "/* Serial-specific style estimator block */\n",
       "\n",
       "#sk-container-id-3 div.sk-serial {\n",
       "  display: flex;\n",
       "  flex-direction: column;\n",
       "  align-items: center;\n",
       "  background-color: var(--sklearn-color-background);\n",
       "  padding-right: 1em;\n",
       "  padding-left: 1em;\n",
       "}\n",
       "\n",
       "\n",
       "/* Toggleable style: style used for estimator/Pipeline/ColumnTransformer box that is\n",
       "clickable and can be expanded/collapsed.\n",
       "- Pipeline and ColumnTransformer use this feature and define the default style\n",
       "- Estimators will overwrite some part of the style using the `sk-estimator` class\n",
       "*/\n",
       "\n",
       "/* Pipeline and ColumnTransformer style (default) */\n",
       "\n",
       "#sk-container-id-3 div.sk-toggleable {\n",
       "  /* Default theme specific background. It is overwritten whether we have a\n",
       "  specific estimator or a Pipeline/ColumnTransformer */\n",
       "  background-color: var(--sklearn-color-background);\n",
       "}\n",
       "\n",
       "/* Toggleable label */\n",
       "#sk-container-id-3 label.sk-toggleable__label {\n",
       "  cursor: pointer;\n",
       "  display: flex;\n",
       "  width: 100%;\n",
       "  margin-bottom: 0;\n",
       "  padding: 0.5em;\n",
       "  box-sizing: border-box;\n",
       "  text-align: center;\n",
       "  align-items: start;\n",
       "  justify-content: space-between;\n",
       "  gap: 0.5em;\n",
       "}\n",
       "\n",
       "#sk-container-id-3 label.sk-toggleable__label .caption {\n",
       "  font-size: 0.6rem;\n",
       "  font-weight: lighter;\n",
       "  color: var(--sklearn-color-text-muted);\n",
       "}\n",
       "\n",
       "#sk-container-id-3 label.sk-toggleable__label-arrow:before {\n",
       "  /* Arrow on the left of the label */\n",
       "  content: \"▸\";\n",
       "  float: left;\n",
       "  margin-right: 0.25em;\n",
       "  color: var(--sklearn-color-icon);\n",
       "}\n",
       "\n",
       "#sk-container-id-3 label.sk-toggleable__label-arrow:hover:before {\n",
       "  color: var(--sklearn-color-text);\n",
       "}\n",
       "\n",
       "/* Toggleable content - dropdown */\n",
       "\n",
       "#sk-container-id-3 div.sk-toggleable__content {\n",
       "  max-height: 0;\n",
       "  max-width: 0;\n",
       "  overflow: hidden;\n",
       "  text-align: left;\n",
       "  /* unfitted */\n",
       "  background-color: var(--sklearn-color-unfitted-level-0);\n",
       "}\n",
       "\n",
       "#sk-container-id-3 div.sk-toggleable__content.fitted {\n",
       "  /* fitted */\n",
       "  background-color: var(--sklearn-color-fitted-level-0);\n",
       "}\n",
       "\n",
       "#sk-container-id-3 div.sk-toggleable__content pre {\n",
       "  margin: 0.2em;\n",
       "  border-radius: 0.25em;\n",
       "  color: var(--sklearn-color-text);\n",
       "  /* unfitted */\n",
       "  background-color: var(--sklearn-color-unfitted-level-0);\n",
       "}\n",
       "\n",
       "#sk-container-id-3 div.sk-toggleable__content.fitted pre {\n",
       "  /* unfitted */\n",
       "  background-color: var(--sklearn-color-fitted-level-0);\n",
       "}\n",
       "\n",
       "#sk-container-id-3 input.sk-toggleable__control:checked~div.sk-toggleable__content {\n",
       "  /* Expand drop-down */\n",
       "  max-height: 200px;\n",
       "  max-width: 100%;\n",
       "  overflow: auto;\n",
       "}\n",
       "\n",
       "#sk-container-id-3 input.sk-toggleable__control:checked~label.sk-toggleable__label-arrow:before {\n",
       "  content: \"▾\";\n",
       "}\n",
       "\n",
       "/* Pipeline/ColumnTransformer-specific style */\n",
       "\n",
       "#sk-container-id-3 div.sk-label input.sk-toggleable__control:checked~label.sk-toggleable__label {\n",
       "  color: var(--sklearn-color-text);\n",
       "  background-color: var(--sklearn-color-unfitted-level-2);\n",
       "}\n",
       "\n",
       "#sk-container-id-3 div.sk-label.fitted input.sk-toggleable__control:checked~label.sk-toggleable__label {\n",
       "  background-color: var(--sklearn-color-fitted-level-2);\n",
       "}\n",
       "\n",
       "/* Estimator-specific style */\n",
       "\n",
       "/* Colorize estimator box */\n",
       "#sk-container-id-3 div.sk-estimator input.sk-toggleable__control:checked~label.sk-toggleable__label {\n",
       "  /* unfitted */\n",
       "  background-color: var(--sklearn-color-unfitted-level-2);\n",
       "}\n",
       "\n",
       "#sk-container-id-3 div.sk-estimator.fitted input.sk-toggleable__control:checked~label.sk-toggleable__label {\n",
       "  /* fitted */\n",
       "  background-color: var(--sklearn-color-fitted-level-2);\n",
       "}\n",
       "\n",
       "#sk-container-id-3 div.sk-label label.sk-toggleable__label,\n",
       "#sk-container-id-3 div.sk-label label {\n",
       "  /* The background is the default theme color */\n",
       "  color: var(--sklearn-color-text-on-default-background);\n",
       "}\n",
       "\n",
       "/* On hover, darken the color of the background */\n",
       "#sk-container-id-3 div.sk-label:hover label.sk-toggleable__label {\n",
       "  color: var(--sklearn-color-text);\n",
       "  background-color: var(--sklearn-color-unfitted-level-2);\n",
       "}\n",
       "\n",
       "/* Label box, darken color on hover, fitted */\n",
       "#sk-container-id-3 div.sk-label.fitted:hover label.sk-toggleable__label.fitted {\n",
       "  color: var(--sklearn-color-text);\n",
       "  background-color: var(--sklearn-color-fitted-level-2);\n",
       "}\n",
       "\n",
       "/* Estimator label */\n",
       "\n",
       "#sk-container-id-3 div.sk-label label {\n",
       "  font-family: monospace;\n",
       "  font-weight: bold;\n",
       "  display: inline-block;\n",
       "  line-height: 1.2em;\n",
       "}\n",
       "\n",
       "#sk-container-id-3 div.sk-label-container {\n",
       "  text-align: center;\n",
       "}\n",
       "\n",
       "/* Estimator-specific */\n",
       "#sk-container-id-3 div.sk-estimator {\n",
       "  font-family: monospace;\n",
       "  border: 1px dotted var(--sklearn-color-border-box);\n",
       "  border-radius: 0.25em;\n",
       "  box-sizing: border-box;\n",
       "  margin-bottom: 0.5em;\n",
       "  /* unfitted */\n",
       "  background-color: var(--sklearn-color-unfitted-level-0);\n",
       "}\n",
       "\n",
       "#sk-container-id-3 div.sk-estimator.fitted {\n",
       "  /* fitted */\n",
       "  background-color: var(--sklearn-color-fitted-level-0);\n",
       "}\n",
       "\n",
       "/* on hover */\n",
       "#sk-container-id-3 div.sk-estimator:hover {\n",
       "  /* unfitted */\n",
       "  background-color: var(--sklearn-color-unfitted-level-2);\n",
       "}\n",
       "\n",
       "#sk-container-id-3 div.sk-estimator.fitted:hover {\n",
       "  /* fitted */\n",
       "  background-color: var(--sklearn-color-fitted-level-2);\n",
       "}\n",
       "\n",
       "/* Specification for estimator info (e.g. \"i\" and \"?\") */\n",
       "\n",
       "/* Common style for \"i\" and \"?\" */\n",
       "\n",
       ".sk-estimator-doc-link,\n",
       "a:link.sk-estimator-doc-link,\n",
       "a:visited.sk-estimator-doc-link {\n",
       "  float: right;\n",
       "  font-size: smaller;\n",
       "  line-height: 1em;\n",
       "  font-family: monospace;\n",
       "  background-color: var(--sklearn-color-background);\n",
       "  border-radius: 1em;\n",
       "  height: 1em;\n",
       "  width: 1em;\n",
       "  text-decoration: none !important;\n",
       "  margin-left: 0.5em;\n",
       "  text-align: center;\n",
       "  /* unfitted */\n",
       "  border: var(--sklearn-color-unfitted-level-1) 1pt solid;\n",
       "  color: var(--sklearn-color-unfitted-level-1);\n",
       "}\n",
       "\n",
       ".sk-estimator-doc-link.fitted,\n",
       "a:link.sk-estimator-doc-link.fitted,\n",
       "a:visited.sk-estimator-doc-link.fitted {\n",
       "  /* fitted */\n",
       "  border: var(--sklearn-color-fitted-level-1) 1pt solid;\n",
       "  color: var(--sklearn-color-fitted-level-1);\n",
       "}\n",
       "\n",
       "/* On hover */\n",
       "div.sk-estimator:hover .sk-estimator-doc-link:hover,\n",
       ".sk-estimator-doc-link:hover,\n",
       "div.sk-label-container:hover .sk-estimator-doc-link:hover,\n",
       ".sk-estimator-doc-link:hover {\n",
       "  /* unfitted */\n",
       "  background-color: var(--sklearn-color-unfitted-level-3);\n",
       "  color: var(--sklearn-color-background);\n",
       "  text-decoration: none;\n",
       "}\n",
       "\n",
       "div.sk-estimator.fitted:hover .sk-estimator-doc-link.fitted:hover,\n",
       ".sk-estimator-doc-link.fitted:hover,\n",
       "div.sk-label-container:hover .sk-estimator-doc-link.fitted:hover,\n",
       ".sk-estimator-doc-link.fitted:hover {\n",
       "  /* fitted */\n",
       "  background-color: var(--sklearn-color-fitted-level-3);\n",
       "  color: var(--sklearn-color-background);\n",
       "  text-decoration: none;\n",
       "}\n",
       "\n",
       "/* Span, style for the box shown on hovering the info icon */\n",
       ".sk-estimator-doc-link span {\n",
       "  display: none;\n",
       "  z-index: 9999;\n",
       "  position: relative;\n",
       "  font-weight: normal;\n",
       "  right: .2ex;\n",
       "  padding: .5ex;\n",
       "  margin: .5ex;\n",
       "  width: min-content;\n",
       "  min-width: 20ex;\n",
       "  max-width: 50ex;\n",
       "  color: var(--sklearn-color-text);\n",
       "  box-shadow: 2pt 2pt 4pt #999;\n",
       "  /* unfitted */\n",
       "  background: var(--sklearn-color-unfitted-level-0);\n",
       "  border: .5pt solid var(--sklearn-color-unfitted-level-3);\n",
       "}\n",
       "\n",
       ".sk-estimator-doc-link.fitted span {\n",
       "  /* fitted */\n",
       "  background: var(--sklearn-color-fitted-level-0);\n",
       "  border: var(--sklearn-color-fitted-level-3);\n",
       "}\n",
       "\n",
       ".sk-estimator-doc-link:hover span {\n",
       "  display: block;\n",
       "}\n",
       "\n",
       "/* \"?\"-specific style due to the `<a>` HTML tag */\n",
       "\n",
       "#sk-container-id-3 a.estimator_doc_link {\n",
       "  float: right;\n",
       "  font-size: 1rem;\n",
       "  line-height: 1em;\n",
       "  font-family: monospace;\n",
       "  background-color: var(--sklearn-color-background);\n",
       "  border-radius: 1rem;\n",
       "  height: 1rem;\n",
       "  width: 1rem;\n",
       "  text-decoration: none;\n",
       "  /* unfitted */\n",
       "  color: var(--sklearn-color-unfitted-level-1);\n",
       "  border: var(--sklearn-color-unfitted-level-1) 1pt solid;\n",
       "}\n",
       "\n",
       "#sk-container-id-3 a.estimator_doc_link.fitted {\n",
       "  /* fitted */\n",
       "  border: var(--sklearn-color-fitted-level-1) 1pt solid;\n",
       "  color: var(--sklearn-color-fitted-level-1);\n",
       "}\n",
       "\n",
       "/* On hover */\n",
       "#sk-container-id-3 a.estimator_doc_link:hover {\n",
       "  /* unfitted */\n",
       "  background-color: var(--sklearn-color-unfitted-level-3);\n",
       "  color: var(--sklearn-color-background);\n",
       "  text-decoration: none;\n",
       "}\n",
       "\n",
       "#sk-container-id-3 a.estimator_doc_link.fitted:hover {\n",
       "  /* fitted */\n",
       "  background-color: var(--sklearn-color-fitted-level-3);\n",
       "}\n",
       "</style><div id=\"sk-container-id-3\" class=\"sk-top-container\"><div class=\"sk-text-repr-fallback\"><pre>LogisticRegression(C=1000000000000.0, fit_intercept=False, max_iter=6000,\n",
       "                   solver=&#x27;liblinear&#x27;)</pre><b>In a Jupyter environment, please rerun this cell to show the HTML representation or trust the notebook. <br />On GitHub, the HTML representation is unable to render, please try loading this page with nbviewer.org.</b></div><div class=\"sk-container\" hidden><div class=\"sk-item\"><div class=\"sk-estimator fitted sk-toggleable\"><input class=\"sk-toggleable__control sk-hidden--visually\" id=\"sk-estimator-id-5\" type=\"checkbox\" checked><label for=\"sk-estimator-id-5\" class=\"sk-toggleable__label fitted sk-toggleable__label-arrow\"><div><div>LogisticRegression</div></div><div><a class=\"sk-estimator-doc-link fitted\" rel=\"noreferrer\" target=\"_blank\" href=\"https://scikit-learn.org/1.6/modules/generated/sklearn.linear_model.LogisticRegression.html\">?<span>Documentation for LogisticRegression</span></a><span class=\"sk-estimator-doc-link fitted\">i<span>Fitted</span></span></div></label><div class=\"sk-toggleable__content fitted\"><pre>LogisticRegression(C=1000000000000.0, fit_intercept=False, max_iter=6000,\n",
       "                   solver=&#x27;liblinear&#x27;)</pre></div> </div></div></div></div>"
      ],
      "text/plain": [
       "LogisticRegression(C=1000000000000.0, fit_intercept=False, max_iter=6000,\n",
       "                   solver='liblinear')"
      ]
     },
     "execution_count": 98,
     "metadata": {},
     "output_type": "execute_result"
    }
   ],
   "source": [
    "# use the balanced data\n",
    "logreg = LogisticRegression(max_iter=6000, C=1e12, fit_intercept=False, solver='liblinear')\n",
    "logreg.fit(X_train_resampled, y_train_resampled)"
   ]
  },
  {
   "cell_type": "code",
   "execution_count": 99,
   "id": "77da0df8",
   "metadata": {},
   "outputs": [],
   "source": [
    "# check the metrics\n",
    "# calculate the probability scores of each of the datapoints:\n",
    "y_score = logreg.fit(X_train_resampled, y_train_resampled).decision_function(X_test)\n",
    "\n",
    "fpr, tpr, thresholds = roc_curve(y_test, y_score)"
   ]
  },
  {
   "cell_type": "code",
   "execution_count": 100,
   "id": "82b0b74e",
   "metadata": {},
   "outputs": [
    {
     "name": "stdout",
     "output_type": "stream",
     "text": [
      "AUC: 0.8172165273064409\n"
     ]
    }
   ],
   "source": [
    "# print the Auc\n",
    "print('AUC: {}'.format(auc(fpr,tpr)))"
   ]
  },
  {
   "cell_type": "markdown",
   "id": "6a40e92c",
   "metadata": {},
   "source": [
    "Plot the ROC curve"
   ]
  },
  {
   "cell_type": "code",
   "execution_count": 101,
   "id": "0dbb5a1c",
   "metadata": {},
   "outputs": [
    {
     "data": {
      "image/png": "[encoded data removed]",
      "text/plain": [
       "<Figure size 800x600 with 1 Axes>"
      ]
     },
     "metadata": {},
     "output_type": "display_data"
    }
   ],
   "source": [
    "\n",
    "# Compute ROC curve and ROC area\n",
    "fpr, tpr, thresholds = roc_curve(y_test, y_score)\n",
    "roc_auc = auc(fpr, tpr)\n",
    "\n",
    "plt.figure(figsize=(8, 6))\n",
    "plt.plot(fpr, tpr, color='darkorange', lw=2, label=f'ROC curve (AUC = {roc_auc:.2f})')\n",
    "plt.plot([0, 1], [0, 1], color='navy', lw=2, linestyle='--')\n",
    "plt.xlim([0.0, 1.0])\n",
    "plt.ylim([0.0, 1.05])\n",
    "plt.xlabel('False Positive Rate')\n",
    "plt.ylabel('True Positive Rate')\n",
    "plt.title('Receiver Operating Characteristic (ROC) Curve')\n",
    "plt.legend(loc=\"lower right\")\n",
    "plt.show()"
   ]
  },
  {
   "cell_type": "markdown",
   "id": "1656b3bb",
   "metadata": {},
   "source": [
    "The model's Auc score of 0.82 shows 82% chance of being able to distinguish between a positive and a negative instance."
   ]
  },
  {
   "cell_type": "markdown",
   "id": "fb01ea37",
   "metadata": {},
   "source": [
    "### Classification using Decision Trees "
   ]
  },
  {
   "cell_type": "code",
   "execution_count": 102,
   "id": "79afca80",
   "metadata": {},
   "outputs": [],
   "source": [
    "# instantiate the model\n",
    "tree = DecisionTreeClassifier(random_state=24)\n",
    "\n",
    "# fit the model on resampled / balanced data\n",
    "tree.fit(X_train_resampled, y_train_resampled)\n",
    "\n",
    "# predict\n",
    "y_pred_tree = tree.predict( X_test)"
   ]
  },
  {
   "cell_type": "code",
   "execution_count": 103,
   "id": "5ef8680b",
   "metadata": {},
   "outputs": [
    {
     "data": {
      "image/png": "[encoded data removed]",
      "text/plain": [
       "<Figure size 640x480 with 2 Axes>"
      ]
     },
     "metadata": {},
     "output_type": "display_data"
    }
   ],
   "source": [
    "# Plot confusion matrix for Decision Tree on resampled data\n",
    "\n",
    "ConfusionMatrixDisplay.from_predictions(y_test, y_pred_tree)\n",
    "plt.title(\"Confusion Matrix - Decision Tree\")\n",
    "plt.show()\n"
   ]
  },
  {
   "cell_type": "code",
   "execution_count": 104,
   "id": "f79f3169",
   "metadata": {},
   "outputs": [
    {
     "name": "stdout",
     "output_type": "stream",
     "text": [
      "F1 score: 0.7572815533980582, \n",
      " Recall: 0.7722772277227723, \n",
      " Precision: 0.7428571428571429, \n",
      " Accuracy: 0.9250374812593704\n"
     ]
    }
   ],
   "source": [
    "# evaluate the model\n",
    "f1_tree = f1_score(y_test, y_pred_tree)\n",
    "recall_tree = recall_score(y_test, y_pred_tree)\n",
    "precision_tree = precision_score(y_test, y_pred_tree)\n",
    "acc_tree = accuracy_score(y_test, y_pred_tree)\n",
    "\n",
    "print(f\"F1 score: {f1_tree}, \\n Recall: {recall_tree}, \\n Precision: {precision_tree}, \\n Accuracy: {acc_tree}\")"
   ]
  },
  {
   "cell_type": "markdown",
   "id": "d2cf36eb",
   "metadata": {},
   "source": [
    "*Interpretation* \n",
    " * The decision tree performed better than the logistic model\n",
    " * The f1_score of 77% is good metric \n",
    " * The overall metrics are good, with an accuracy of 92% and the model is not yet tuned\n",
    " "
   ]
  },
  {
   "cell_type": "markdown",
   "id": "d7949edb",
   "metadata": {},
   "source": [
    "### Hyperparameter Tuning"
   ]
  },
  {
   "cell_type": "code",
   "execution_count": 105,
   "id": "8721a718",
   "metadata": {},
   "outputs": [
    {
     "data": {
      "text/html": [
       "<style>#sk-container-id-4 {\n",
       "  /* Definition of color scheme common for light and dark mode */\n",
       "  --sklearn-color-text: #000;\n",
       "  --sklearn-color-text-muted: #666;\n",
       "  --sklearn-color-line: gray;\n",
       "  /* Definition of color scheme for unfitted estimators */\n",
       "  --sklearn-color-unfitted-level-0: #fff5e6;\n",
       "  --sklearn-color-unfitted-level-1: #f6e4d2;\n",
       "  --sklearn-color-unfitted-level-2: #ffe0b3;\n",
       "  --sklearn-color-unfitted-level-3: chocolate;\n",
       "  /* Definition of color scheme for fitted estimators */\n",
       "  --sklearn-color-fitted-level-0: #f0f8ff;\n",
       "  --sklearn-color-fitted-level-1: #d4ebff;\n",
       "  --sklearn-color-fitted-level-2: #b3dbfd;\n",
       "  --sklearn-color-fitted-level-3: cornflowerblue;\n",
       "\n",
       "  /* Specific color for light theme */\n",
       "  --sklearn-color-text-on-default-background: var(--sg-text-color, var(--theme-code-foreground, var(--jp-content-font-color1, black)));\n",
       "  --sklearn-color-background: var(--sg-background-color, var(--theme-background, var(--jp-layout-color0, white)));\n",
       "  --sklearn-color-border-box: var(--sg-text-color, var(--theme-code-foreground, var(--jp-content-font-color1, black)));\n",
       "  --sklearn-color-icon: #696969;\n",
       "\n",
       "  @media (prefers-color-scheme: dark) {\n",
       "    /* Redefinition of color scheme for dark theme */\n",
       "    --sklearn-color-text-on-default-background: var(--sg-text-color, var(--theme-code-foreground, var(--jp-content-font-color1, white)));\n",
       "    --sklearn-color-background: var(--sg-background-color, var(--theme-background, var(--jp-layout-color0, #111)));\n",
       "    --sklearn-color-border-box: var(--sg-text-color, var(--theme-code-foreground, var(--jp-content-font-color1, white)));\n",
       "    --sklearn-color-icon: #878787;\n",
       "  }\n",
       "}\n",
       "\n",
       "#sk-container-id-4 {\n",
       "  color: var(--sklearn-color-text);\n",
       "}\n",
       "\n",
       "#sk-container-id-4 pre {\n",
       "  padding: 0;\n",
       "}\n",
       "\n",
       "#sk-container-id-4 input.sk-hidden--visually {\n",
       "  border: 0;\n",
       "  clip: rect(1px 1px 1px 1px);\n",
       "  clip: rect(1px, 1px, 1px, 1px);\n",
       "  height: 1px;\n",
       "  margin: -1px;\n",
       "  overflow: hidden;\n",
       "  padding: 0;\n",
       "  position: absolute;\n",
       "  width: 1px;\n",
       "}\n",
       "\n",
       "#sk-container-id-4 div.sk-dashed-wrapped {\n",
       "  border: 1px dashed var(--sklearn-color-line);\n",
       "  margin: 0 0.4em 0.5em 0.4em;\n",
       "  box-sizing: border-box;\n",
       "  padding-bottom: 0.4em;\n",
       "  background-color: var(--sklearn-color-background);\n",
       "}\n",
       "\n",
       "#sk-container-id-4 div.sk-container {\n",
       "  /* jupyter's `normalize.less` sets `[hidden] { display: none; }`\n",
       "     but bootstrap.min.css set `[hidden] { display: none !important; }`\n",
       "     so we also need the `!important` here to be able to override the\n",
       "     default hidden behavior on the sphinx rendered scikit-learn.org.\n",
       "     See: https://github.com/scikit-learn/scikit-learn/issues/21755 */\n",
       "  display: inline-block !important;\n",
       "  position: relative;\n",
       "}\n",
       "\n",
       "#sk-container-id-4 div.sk-text-repr-fallback {\n",
       "  display: none;\n",
       "}\n",
       "\n",
       "div.sk-parallel-item,\n",
       "div.sk-serial,\n",
       "div.sk-item {\n",
       "  /* draw centered vertical line to link estimators */\n",
       "  background-image: linear-gradient(var(--sklearn-color-text-on-default-background), var(--sklearn-color-text-on-default-background));\n",
       "  background-size: 2px 100%;\n",
       "  background-repeat: no-repeat;\n",
       "  background-position: center center;\n",
       "}\n",
       "\n",
       "/* Parallel-specific style estimator block */\n",
       "\n",
       "#sk-container-id-4 div.sk-parallel-item::after {\n",
       "  content: \"\";\n",
       "  width: 100%;\n",
       "  border-bottom: 2px solid var(--sklearn-color-text-on-default-background);\n",
       "  flex-grow: 1;\n",
       "}\n",
       "\n",
       "#sk-container-id-4 div.sk-parallel {\n",
       "  display: flex;\n",
       "  align-items: stretch;\n",
       "  justify-content: center;\n",
       "  background-color: var(--sklearn-color-background);\n",
       "  position: relative;\n",
       "}\n",
       "\n",
       "#sk-container-id-4 div.sk-parallel-item {\n",
       "  display: flex;\n",
       "  flex-direction: column;\n",
       "}\n",
       "\n",
       "#sk-container-id-4 div.sk-parallel-item:first-child::after {\n",
       "  align-self: flex-end;\n",
       "  width: 50%;\n",
       "}\n",
       "\n",
       "#sk-container-id-4 div.sk-parallel-item:last-child::after {\n",
       "  align-self: flex-start;\n",
       "  width: 50%;\n",
       "}\n",
       "\n",
       "#sk-container-id-4 div.sk-parallel-item:only-child::after {\n",
       "  width: 0;\n",
       "}\n",
       "\n",
       "/* Serial-specific style estimator block */\n",
       "\n",
       "#sk-container-id-4 div.sk-serial {\n",
       "  display: flex;\n",
       "  flex-direction: column;\n",
       "  align-items: center;\n",
       "  background-color: var(--sklearn-color-background);\n",
       "  padding-right: 1em;\n",
       "  padding-left: 1em;\n",
       "}\n",
       "\n",
       "\n",
       "/* Toggleable style: style used for estimator/Pipeline/ColumnTransformer box that is\n",
       "clickable and can be expanded/collapsed.\n",
       "- Pipeline and ColumnTransformer use this feature and define the default style\n",
       "- Estimators will overwrite some part of the style using the `sk-estimator` class\n",
       "*/\n",
       "\n",
       "/* Pipeline and ColumnTransformer style (default) */\n",
       "\n",
       "#sk-container-id-4 div.sk-toggleable {\n",
       "  /* Default theme specific background. It is overwritten whether we have a\n",
       "  specific estimator or a Pipeline/ColumnTransformer */\n",
       "  background-color: var(--sklearn-color-background);\n",
       "}\n",
       "\n",
       "/* Toggleable label */\n",
       "#sk-container-id-4 label.sk-toggleable__label {\n",
       "  cursor: pointer;\n",
       "  display: flex;\n",
       "  width: 100%;\n",
       "  margin-bottom: 0;\n",
       "  padding: 0.5em;\n",
       "  box-sizing: border-box;\n",
       "  text-align: center;\n",
       "  align-items: start;\n",
       "  justify-content: space-between;\n",
       "  gap: 0.5em;\n",
       "}\n",
       "\n",
       "#sk-container-id-4 label.sk-toggleable__label .caption {\n",
       "  font-size: 0.6rem;\n",
       "  font-weight: lighter;\n",
       "  color: var(--sklearn-color-text-muted);\n",
       "}\n",
       "\n",
       "#sk-container-id-4 label.sk-toggleable__label-arrow:before {\n",
       "  /* Arrow on the left of the label */\n",
       "  content: \"▸\";\n",
       "  float: left;\n",
       "  margin-right: 0.25em;\n",
       "  color: var(--sklearn-color-icon);\n",
       "}\n",
       "\n",
       "#sk-container-id-4 label.sk-toggleable__label-arrow:hover:before {\n",
       "  color: var(--sklearn-color-text);\n",
       "}\n",
       "\n",
       "/* Toggleable content - dropdown */\n",
       "\n",
       "#sk-container-id-4 div.sk-toggleable__content {\n",
       "  max-height: 0;\n",
       "  max-width: 0;\n",
       "  overflow: hidden;\n",
       "  text-align: left;\n",
       "  /* unfitted */\n",
       "  background-color: var(--sklearn-color-unfitted-level-0);\n",
       "}\n",
       "\n",
       "#sk-container-id-4 div.sk-toggleable__content.fitted {\n",
       "  /* fitted */\n",
       "  background-color: var(--sklearn-color-fitted-level-0);\n",
       "}\n",
       "\n",
       "#sk-container-id-4 div.sk-toggleable__content pre {\n",
       "  margin: 0.2em;\n",
       "  border-radius: 0.25em;\n",
       "  color: var(--sklearn-color-text);\n",
       "  /* unfitted */\n",
       "  background-color: var(--sklearn-color-unfitted-level-0);\n",
       "}\n",
       "\n",
       "#sk-container-id-4 div.sk-toggleable__content.fitted pre {\n",
       "  /* unfitted */\n",
       "  background-color: var(--sklearn-color-fitted-level-0);\n",
       "}\n",
       "\n",
       "#sk-container-id-4 input.sk-toggleable__control:checked~div.sk-toggleable__content {\n",
       "  /* Expand drop-down */\n",
       "  max-height: 200px;\n",
       "  max-width: 100%;\n",
       "  overflow: auto;\n",
       "}\n",
       "\n",
       "#sk-container-id-4 input.sk-toggleable__control:checked~label.sk-toggleable__label-arrow:before {\n",
       "  content: \"▾\";\n",
       "}\n",
       "\n",
       "/* Pipeline/ColumnTransformer-specific style */\n",
       "\n",
       "#sk-container-id-4 div.sk-label input.sk-toggleable__control:checked~label.sk-toggleable__label {\n",
       "  color: var(--sklearn-color-text);\n",
       "  background-color: var(--sklearn-color-unfitted-level-2);\n",
       "}\n",
       "\n",
       "#sk-container-id-4 div.sk-label.fitted input.sk-toggleable__control:checked~label.sk-toggleable__label {\n",
       "  background-color: var(--sklearn-color-fitted-level-2);\n",
       "}\n",
       "\n",
       "/* Estimator-specific style */\n",
       "\n",
       "/* Colorize estimator box */\n",
       "#sk-container-id-4 div.sk-estimator input.sk-toggleable__control:checked~label.sk-toggleable__label {\n",
       "  /* unfitted */\n",
       "  background-color: var(--sklearn-color-unfitted-level-2);\n",
       "}\n",
       "\n",
       "#sk-container-id-4 div.sk-estimator.fitted input.sk-toggleable__control:checked~label.sk-toggleable__label {\n",
       "  /* fitted */\n",
       "  background-color: var(--sklearn-color-fitted-level-2);\n",
       "}\n",
       "\n",
       "#sk-container-id-4 div.sk-label label.sk-toggleable__label,\n",
       "#sk-container-id-4 div.sk-label label {\n",
       "  /* The background is the default theme color */\n",
       "  color: var(--sklearn-color-text-on-default-background);\n",
       "}\n",
       "\n",
       "/* On hover, darken the color of the background */\n",
       "#sk-container-id-4 div.sk-label:hover label.sk-toggleable__label {\n",
       "  color: var(--sklearn-color-text);\n",
       "  background-color: var(--sklearn-color-unfitted-level-2);\n",
       "}\n",
       "\n",
       "/* Label box, darken color on hover, fitted */\n",
       "#sk-container-id-4 div.sk-label.fitted:hover label.sk-toggleable__label.fitted {\n",
       "  color: var(--sklearn-color-text);\n",
       "  background-color: var(--sklearn-color-fitted-level-2);\n",
       "}\n",
       "\n",
       "/* Estimator label */\n",
       "\n",
       "#sk-container-id-4 div.sk-label label {\n",
       "  font-family: monospace;\n",
       "  font-weight: bold;\n",
       "  display: inline-block;\n",
       "  line-height: 1.2em;\n",
       "}\n",
       "\n",
       "#sk-container-id-4 div.sk-label-container {\n",
       "  text-align: center;\n",
       "}\n",
       "\n",
       "/* Estimator-specific */\n",
       "#sk-container-id-4 div.sk-estimator {\n",
       "  font-family: monospace;\n",
       "  border: 1px dotted var(--sklearn-color-border-box);\n",
       "  border-radius: 0.25em;\n",
       "  box-sizing: border-box;\n",
       "  margin-bottom: 0.5em;\n",
       "  /* unfitted */\n",
       "  background-color: var(--sklearn-color-unfitted-level-0);\n",
       "}\n",
       "\n",
       "#sk-container-id-4 div.sk-estimator.fitted {\n",
       "  /* fitted */\n",
       "  background-color: var(--sklearn-color-fitted-level-0);\n",
       "}\n",
       "\n",
       "/* on hover */\n",
       "#sk-container-id-4 div.sk-estimator:hover {\n",
       "  /* unfitted */\n",
       "  background-color: var(--sklearn-color-unfitted-level-2);\n",
       "}\n",
       "\n",
       "#sk-container-id-4 div.sk-estimator.fitted:hover {\n",
       "  /* fitted */\n",
       "  background-color: var(--sklearn-color-fitted-level-2);\n",
       "}\n",
       "\n",
       "/* Specification for estimator info (e.g. \"i\" and \"?\") */\n",
       "\n",
       "/* Common style for \"i\" and \"?\" */\n",
       "\n",
       ".sk-estimator-doc-link,\n",
       "a:link.sk-estimator-doc-link,\n",
       "a:visited.sk-estimator-doc-link {\n",
       "  float: right;\n",
       "  font-size: smaller;\n",
       "  line-height: 1em;\n",
       "  font-family: monospace;\n",
       "  background-color: var(--sklearn-color-background);\n",
       "  border-radius: 1em;\n",
       "  height: 1em;\n",
       "  width: 1em;\n",
       "  text-decoration: none !important;\n",
       "  margin-left: 0.5em;\n",
       "  text-align: center;\n",
       "  /* unfitted */\n",
       "  border: var(--sklearn-color-unfitted-level-1) 1pt solid;\n",
       "  color: var(--sklearn-color-unfitted-level-1);\n",
       "}\n",
       "\n",
       ".sk-estimator-doc-link.fitted,\n",
       "a:link.sk-estimator-doc-link.fitted,\n",
       "a:visited.sk-estimator-doc-link.fitted {\n",
       "  /* fitted */\n",
       "  border: var(--sklearn-color-fitted-level-1) 1pt solid;\n",
       "  color: var(--sklearn-color-fitted-level-1);\n",
       "}\n",
       "\n",
       "/* On hover */\n",
       "div.sk-estimator:hover .sk-estimator-doc-link:hover,\n",
       ".sk-estimator-doc-link:hover,\n",
       "div.sk-label-container:hover .sk-estimator-doc-link:hover,\n",
       ".sk-estimator-doc-link:hover {\n",
       "  /* unfitted */\n",
       "  background-color: var(--sklearn-color-unfitted-level-3);\n",
       "  color: var(--sklearn-color-background);\n",
       "  text-decoration: none;\n",
       "}\n",
       "\n",
       "div.sk-estimator.fitted:hover .sk-estimator-doc-link.fitted:hover,\n",
       ".sk-estimator-doc-link.fitted:hover,\n",
       "div.sk-label-container:hover .sk-estimator-doc-link.fitted:hover,\n",
       ".sk-estimator-doc-link.fitted:hover {\n",
       "  /* fitted */\n",
       "  background-color: var(--sklearn-color-fitted-level-3);\n",
       "  color: var(--sklearn-color-background);\n",
       "  text-decoration: none;\n",
       "}\n",
       "\n",
       "/* Span, style for the box shown on hovering the info icon */\n",
       ".sk-estimator-doc-link span {\n",
       "  display: none;\n",
       "  z-index: 9999;\n",
       "  position: relative;\n",
       "  font-weight: normal;\n",
       "  right: .2ex;\n",
       "  padding: .5ex;\n",
       "  margin: .5ex;\n",
       "  width: min-content;\n",
       "  min-width: 20ex;\n",
       "  max-width: 50ex;\n",
       "  color: var(--sklearn-color-text);\n",
       "  box-shadow: 2pt 2pt 4pt #999;\n",
       "  /* unfitted */\n",
       "  background: var(--sklearn-color-unfitted-level-0);\n",
       "  border: .5pt solid var(--sklearn-color-unfitted-level-3);\n",
       "}\n",
       "\n",
       ".sk-estimator-doc-link.fitted span {\n",
       "  /* fitted */\n",
       "  background: var(--sklearn-color-fitted-level-0);\n",
       "  border: var(--sklearn-color-fitted-level-3);\n",
       "}\n",
       "\n",
       ".sk-estimator-doc-link:hover span {\n",
       "  display: block;\n",
       "}\n",
       "\n",
       "/* \"?\"-specific style due to the `<a>` HTML tag */\n",
       "\n",
       "#sk-container-id-4 a.estimator_doc_link {\n",
       "  float: right;\n",
       "  font-size: 1rem;\n",
       "  line-height: 1em;\n",
       "  font-family: monospace;\n",
       "  background-color: var(--sklearn-color-background);\n",
       "  border-radius: 1rem;\n",
       "  height: 1rem;\n",
       "  width: 1rem;\n",
       "  text-decoration: none;\n",
       "  /* unfitted */\n",
       "  color: var(--sklearn-color-unfitted-level-1);\n",
       "  border: var(--sklearn-color-unfitted-level-1) 1pt solid;\n",
       "}\n",
       "\n",
       "#sk-container-id-4 a.estimator_doc_link.fitted {\n",
       "  /* fitted */\n",
       "  border: var(--sklearn-color-fitted-level-1) 1pt solid;\n",
       "  color: var(--sklearn-color-fitted-level-1);\n",
       "}\n",
       "\n",
       "/* On hover */\n",
       "#sk-container-id-4 a.estimator_doc_link:hover {\n",
       "  /* unfitted */\n",
       "  background-color: var(--sklearn-color-unfitted-level-3);\n",
       "  color: var(--sklearn-color-background);\n",
       "  text-decoration: none;\n",
       "}\n",
       "\n",
       "#sk-container-id-4 a.estimator_doc_link.fitted:hover {\n",
       "  /* fitted */\n",
       "  background-color: var(--sklearn-color-fitted-level-3);\n",
       "}\n",
       "</style><div id=\"sk-container-id-4\" class=\"sk-top-container\"><div class=\"sk-text-repr-fallback\"><pre>GridSearchCV(cv=2, estimator=DecisionTreeClassifier(random_state=42),\n",
       "             param_grid={&#x27;criterion&#x27;: [&#x27;gini&#x27;, &#x27;entropy&#x27;],\n",
       "                         &#x27;max_depth&#x27;: [None, 3, 5, 20],\n",
       "                         &#x27;max_features&#x27;: [&#x27;sqrt&#x27;, &#x27;log2&#x27;],\n",
       "                         &#x27;min_samples_leaf&#x27;: [5, 10, 15],\n",
       "                         &#x27;min_samples_split&#x27;: [5, 20, 100, 1000]},\n",
       "             scoring=&#x27;accuracy&#x27;)</pre><b>In a Jupyter environment, please rerun this cell to show the HTML representation or trust the notebook. <br />On GitHub, the HTML representation is unable to render, please try loading this page with nbviewer.org.</b></div><div class=\"sk-container\" hidden><div class=\"sk-item sk-dashed-wrapped\"><div class=\"sk-label-container\"><div class=\"sk-label fitted sk-toggleable\"><input class=\"sk-toggleable__control sk-hidden--visually\" id=\"sk-estimator-id-6\" type=\"checkbox\" ><label for=\"sk-estimator-id-6\" class=\"sk-toggleable__label fitted sk-toggleable__label-arrow\"><div><div>GridSearchCV</div></div><div><a class=\"sk-estimator-doc-link fitted\" rel=\"noreferrer\" target=\"_blank\" href=\"https://scikit-learn.org/1.6/modules/generated/sklearn.model_selection.GridSearchCV.html\">?<span>Documentation for GridSearchCV</span></a><span class=\"sk-estimator-doc-link fitted\">i<span>Fitted</span></span></div></label><div class=\"sk-toggleable__content fitted\"><pre>GridSearchCV(cv=2, estimator=DecisionTreeClassifier(random_state=42),\n",
       "             param_grid={&#x27;criterion&#x27;: [&#x27;gini&#x27;, &#x27;entropy&#x27;],\n",
       "                         &#x27;max_depth&#x27;: [None, 3, 5, 20],\n",
       "                         &#x27;max_features&#x27;: [&#x27;sqrt&#x27;, &#x27;log2&#x27;],\n",
       "                         &#x27;min_samples_leaf&#x27;: [5, 10, 15],\n",
       "                         &#x27;min_samples_split&#x27;: [5, 20, 100, 1000]},\n",
       "             scoring=&#x27;accuracy&#x27;)</pre></div> </div></div><div class=\"sk-parallel\"><div class=\"sk-parallel-item\"><div class=\"sk-item\"><div class=\"sk-label-container\"><div class=\"sk-label fitted sk-toggleable\"><input class=\"sk-toggleable__control sk-hidden--visually\" id=\"sk-estimator-id-7\" type=\"checkbox\" ><label for=\"sk-estimator-id-7\" class=\"sk-toggleable__label fitted sk-toggleable__label-arrow\"><div><div>best_estimator_: DecisionTreeClassifier</div></div></label><div class=\"sk-toggleable__content fitted\"><pre>DecisionTreeClassifier(criterion=&#x27;entropy&#x27;, max_features=&#x27;sqrt&#x27;,\n",
       "                       min_samples_leaf=5, min_samples_split=20,\n",
       "                       random_state=42)</pre></div> </div></div><div class=\"sk-serial\"><div class=\"sk-item\"><div class=\"sk-estimator fitted sk-toggleable\"><input class=\"sk-toggleable__control sk-hidden--visually\" id=\"sk-estimator-id-8\" type=\"checkbox\" ><label for=\"sk-estimator-id-8\" class=\"sk-toggleable__label fitted sk-toggleable__label-arrow\"><div><div>DecisionTreeClassifier</div></div><div><a class=\"sk-estimator-doc-link fitted\" rel=\"noreferrer\" target=\"_blank\" href=\"https://scikit-learn.org/1.6/modules/generated/sklearn.tree.DecisionTreeClassifier.html\">?<span>Documentation for DecisionTreeClassifier</span></a></div></label><div class=\"sk-toggleable__content fitted\"><pre>DecisionTreeClassifier(criterion=&#x27;entropy&#x27;, max_features=&#x27;sqrt&#x27;,\n",
       "                       min_samples_leaf=5, min_samples_split=20,\n",
       "                       random_state=42)</pre></div> </div></div></div></div></div></div></div></div></div>"
      ],
      "text/plain": [
       "GridSearchCV(cv=2, estimator=DecisionTreeClassifier(random_state=42),\n",
       "             param_grid={'criterion': ['gini', 'entropy'],\n",
       "                         'max_depth': [None, 3, 5, 20],\n",
       "                         'max_features': ['sqrt', 'log2'],\n",
       "                         'min_samples_leaf': [5, 10, 15],\n",
       "                         'min_samples_split': [5, 20, 100, 1000]},\n",
       "             scoring='accuracy')"
      ]
     },
     "execution_count": 105,
     "metadata": {},
     "output_type": "execute_result"
    }
   ],
   "source": [
    "# Tuning the moddel using GridsearchCV\n",
    "\n",
    "\"\"\"\n",
    "max_depth - length of tree\n",
    "\n",
    "min_samples_split - number of samples to split an internal node\n",
    "\n",
    "criterion - entropy , gini\n",
    "\n",
    "max_features - number of predictors to use during each split, higher may lead to overfitting, lower generalizes\n",
    "\n",
    "splitter - best , random - the strategy used choose split\n",
    "\n",
    "min_samples_leaf - how many you need in a group/leaf mode\n",
    "\n",
    "\"\"\"\n",
    "tree_1= DecisionTreeClassifier(random_state=42)\n",
    "\n",
    "param_grid = {\n",
    "    'max_depth': [None, 3, 5, 20],\n",
    "    'min_samples_split': [5, 20,100, 1000],\n",
    "    'min_samples_leaf': [5, 10, 15],\n",
    "    'criterion':['gini', 'entropy'] ,\n",
    "    'max_features': ['sqrt','log2']\n",
    "    }\n",
    "\n",
    "# instantiate\n",
    "grid_search = GridSearchCV(estimator=tree_1, param_grid=param_grid, cv=2, scoring = 'accuracy' )\n",
    "\n",
    "#training/fitting the  gridsearch\n",
    "grid_search.fit(X_train_resampled, y_train_resampled)\n"
   ]
  },
  {
   "cell_type": "code",
   "execution_count": 106,
   "id": "542687f0",
   "metadata": {},
   "outputs": [
    {
     "name": "stdout",
     "output_type": "stream",
     "text": [
      "Best Parameters: {'criterion': 'entropy', 'max_depth': None, 'max_features': 'sqrt', 'min_samples_leaf': 5, 'min_samples_split': 20}\n",
      "Best Scores: 0.89\n"
     ]
    }
   ],
   "source": [
    "# check the parameters \n",
    "params = grid_search.best_params_\n",
    "score = grid_search.best_score_\n",
    "\n",
    "print(f'Best Parameters: {params}')\n",
    "print(f'Best Scores: {score:.2f}')"
   ]
  },
  {
   "cell_type": "code",
   "execution_count": 107,
   "id": "ed797b74",
   "metadata": {},
   "outputs": [
    {
     "name": "stdout",
     "output_type": "stream",
     "text": [
      "Grid model has an: \n",
      " Accuracy: 0.90, \n",
      " Precision: 0.65, \n",
      " Recall: 0.73, \n",
      " F1 Score: 0.69\n"
     ]
    }
   ],
   "source": [
    "# Apply the tuning to a grid model\n",
    "grid_model = grid_search.best_estimator_\n",
    "\n",
    "#predicting using the best grid search model\n",
    "y_preds_g = grid_model.predict(X_test)\n",
    "\n",
    "\n",
    "f1_g = f1_score(y_test, y_preds_g)\n",
    "acc_g = accuracy_score(y_test, y_preds_g)\n",
    "precision_g = precision_score(y_test, y_preds_g)\n",
    "recall_g = recall_score(y_test, y_preds_g)\n",
    "\n",
    "print(\n",
    "    f\"Grid model has an: \\n Accuracy: {acc_g:.2f}, \\n Precision: {precision_g:.2f}, \\n Recall: {recall_g:.2f}, \\n F1 Score: {f1_g:.2f}\"\n",
    ")\n"
   ]
  },
  {
   "cell_type": "code",
   "execution_count": 108,
   "id": "dab975b8",
   "metadata": {},
   "outputs": [
    {
     "name": "stdout",
     "output_type": "stream",
     "text": [
      "Decision Tree (tree) Results:\n",
      "              precision    recall  f1-score   support\n",
      "\n",
      "       False       0.96      0.95      0.96       566\n",
      "        True       0.74      0.77      0.76       101\n",
      "\n",
      "    accuracy                           0.93       667\n",
      "   macro avg       0.85      0.86      0.86       667\n",
      "weighted avg       0.93      0.93      0.93       667\n",
      "\n",
      "\n",
      "Tuned Decision Tree (grid_model) Results:\n",
      "              precision    recall  f1-score   support\n",
      "\n",
      "       False       0.95      0.93      0.94       566\n",
      "        True       0.65      0.73      0.69       101\n",
      "\n",
      "    accuracy                           0.90       667\n",
      "   macro avg       0.80      0.83      0.81       667\n",
      "weighted avg       0.91      0.90      0.90       667\n",
      "\n"
     ]
    }
   ],
   "source": [
    "# compare the two models performance\n",
    "print(\"Decision Tree (tree) Results:\")\n",
    "print(classification_report(y_test, y_pred_tree))\n",
    "\n",
    "print(\"\\nTuned Decision Tree (grid_model) Results:\")\n",
    "print(classification_report(y_test, y_preds_g))"
   ]
  },
  {
   "cell_type": "markdown",
   "id": "6f4b6c10",
   "metadata": {},
   "source": [
    "*Interpretation*\n",
    "* The original Decision tree performed better than the tuned Decision tree\n",
    "* Hyperparameter tuning did not improve minority class performance"
   ]
  },
  {
   "cell_type": "code",
   "execution_count": 109,
   "id": "08f693b9",
   "metadata": {},
   "outputs": [
    {
     "name": "stdout",
     "output_type": "stream",
     "text": [
      "Logistic Regression predicted 35 customers to churn.\n",
      "Decision Tree predicted 105 customers to churn.\n"
     ]
    }
   ],
   "source": [
    "# Count number of customers predicted to churn (True) by each model\n",
    "n_churned_lr = np.sum(y_pred_1)\n",
    "n_churned_tree = np.sum(y_pred_tree)\n",
    "\n",
    "print(f\"Logistic Regression predicted {n_churned_lr} customers to churn.\")\n",
    "print(f\"Decision Tree predicted {n_churned_tree} customers to churn.\")"
   ]
  },
  {
   "cell_type": "markdown",
   "id": "a7c489d7",
   "metadata": {},
   "source": [
    "## Analyze factors causing churn"
   ]
  },
  {
   "cell_type": "code",
   "execution_count": 110,
   "id": "e70ca9d0",
   "metadata": {},
   "outputs": [
    {
     "name": "stdout",
     "output_type": "stream",
     "text": [
      "Top factors causing churn based on Decision Tree importance:\n",
      "                   feature  importance\n",
      "69      international plan    0.179466\n",
      "82           total minutes    0.167942\n",
      "80  customer service calls    0.164763\n",
      "72       total day minutes    0.119162\n",
      "68               area code    0.078781\n",
      "78      total intl minutes    0.038379\n",
      "70         voice mail plan    0.038101\n",
      "1       international plan    0.026431\n",
      "11        total intl calls    0.019004\n",
      "74       total eve minutes    0.018283\n"
     ]
    }
   ],
   "source": [
    "# Analyze feature importances from the decision tree to identify key factors causing churn\n",
    "importances = tree.feature_importances_\n",
    "feature_names = X_train.columns\n",
    "\n",
    "# Get top features\n",
    "feature_importance_df = pd.DataFrame({\n",
    "    'feature': feature_names,\n",
    "    'importance': importances\n",
    "}).sort_values(by='importance', ascending=False)\n",
    "\n",
    "print(\"Top factors causing churn based on Decision Tree importance:\")\n",
    "print(feature_importance_df.head(10))"
   ]
  },
  {
   "cell_type": "markdown",
   "id": "3c8515f5",
   "metadata": {},
   "source": [
    "### Features that contribute to churn"
   ]
  },
  {
   "cell_type": "code",
   "execution_count": 111,
   "id": "ccc5574f",
   "metadata": {},
   "outputs": [
    {
     "data": {
      "image/png": "[encoded data removed]",
      "text/plain": [
       "<Figure size 1000x600 with 1 Axes>"
      ]
     },
     "metadata": {},
     "output_type": "display_data"
    }
   ],
   "source": [
    "# Visualize top 10 features contributing to churn from the decision tree\n",
    "plt.figure(figsize=(10, 6))\n",
    "sns.barplot(\n",
    "    x='importance',\n",
    "    y='feature',\n",
    "    data=feature_importance_df.head(10),\n",
    "    palette='viridis'\n",
    ")\n",
    "plt.title('Top 10 Features Contributing to Churn (Decision Tree)')\n",
    "plt.xlabel('Importance Score')\n",
    "plt.ylabel('Feature')\n",
    "plt.tight_layout()\n",
    "plt.show()"
   ]
  },
  {
   "cell_type": "markdown",
   "id": "7c15a4c8",
   "metadata": {},
   "source": [
    "## Conclusion\n",
    "### The analysis of the SyriaTel customer churn dataset reveals several key insights into the drivers of customer churn.\n",
    "\n",
    "* High number of customer service calls show dissatisfaction and a potential churn.\n",
    "* Customers with an international plan are more likely to churn, and those who make more customer service calls also show a higher tendency to leave, indicating dissatisfaction with the service.\n",
    "* Customers who actively use voicemail services tend to be more loyal. \n",
    "* The models show that accuracy is high due to class imbalance, recall for the minority (churn) class is improved after applying SMOTE. \n",
    "* Feature importance analysis confirms that customer service calls, international plan, and usage patterns are significant predictors of churn."
   ]
  },
  {
   "cell_type": "code",
   "execution_count": 112,
   "id": "9afad3e7",
   "metadata": {},
   "outputs": [
    {
     "data": {
      "image/png": "[encoded data removed]",
      "text/plain": [
       "<Figure size 1800x500 with 3 Axes>"
      ]
     },
     "metadata": {},
     "output_type": "display_data"
    }
   ],
   "source": [
    "# Visualize the conclusion\n",
    "\n",
    "fig, axes = plt.subplots(1, 3, figsize=(18, 5))\n",
    "\n",
    "# 1. Customer service calls vs churn\n",
    "sns.barplot(x='churn', y='customer service calls', data=df, ax=axes[0], errorbar=None)\n",
    "axes[0].set_title('Customer Service Calls by Churn')\n",
    "axes[0].set_xlabel('Churn')\n",
    "axes[0].set_ylabel('Avg Customer Service Calls')\n",
    "\n",
    "# 2. International plan vs churn\n",
    "sns.barplot(x='international plan', y='churn', data=df, ax=axes[1], errorbar=None)\n",
    "axes[1].set_title('Churn Rate by International Plan')\n",
    "axes[1].set_xlabel('International Plan (0=No, 1=Yes)')\n",
    "axes[1].set_ylabel('Churn Rate')\n",
    "\n",
    "# 3. Voicemail usage vs churn\n",
    "sns.barplot(x='churn', y='number vmail messages', data=df, \n",
    "ax=axes[2], errorbar=None)\n",
    "axes[2].set_title('Voicemail Messages by Churn')\n",
    "axes[2].set_xlabel('Churn')\n",
    "axes[2].set_ylabel('Avg Voicemail Messages')\n",
    "\n",
    "plt.tight_layout()\n",
    "plt.show()\n",
    "\n"
   ]
  },
  {
   "cell_type": "markdown",
   "id": "05edabbb",
   "metadata": {},
   "source": [
    "## Recommendations\n",
    "- Offering incentives or tailored packages to these segments, as well as promoting voicemail plan usage, may help increase satisfaction and retention.\n",
    "- SyriaTel should focus on improving customer service quality especially customers who call for support or help, this would reduce churn and loss of revenue\n",
    "- There should be a special consideration to customers with international plans as they have a high chance of leaving."
   ]
  }
 ],
 "metadata": {
  "kernelspec": {
   "display_name": "science-env",
   "language": "python",
   "name": "python3"
  },
  "language_info": {
   "codemirror_mode": {
    "name": "ipython",
    "version": 3
   },
   "file_extension": ".py",
   "mimetype": "text/x-python",
   "name": "python",
   "nbconvert_exporter": "python",
   "pygments_lexer": "ipython3",
   "version": "3.12.9"
  }
 },
 "nbformat": 4,
 "nbformat_minor": 5
}
