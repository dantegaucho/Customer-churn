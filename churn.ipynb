{
 "cells": [
  {
   "cell_type": "markdown",
   "id": "61e342f9",
   "metadata": {},
   "source": [
    "# SyriaTel Customer Churn"
   ]
  },
  {
   "cell_type": "markdown",
   "id": "05d5cd3c",
   "metadata": {},
   "source": [
    "![Customer service](images/call_center.png)"
   ]
  },
  {
   "cell_type": "markdown",
   "id": "fca243cc",
   "metadata": {},
   "source": [
    "## Overview"
   ]
  },
  {
   "cell_type": "markdown",
   "id": "78cc0520",
   "metadata": {},
   "source": [
    "This project explores and analyses telecom data from SyriaTel to generate insights on how international and voicemail plans, customer service calls and call minutes affect customer satisfaction causing churn. SyriaTel can use this analysis to curb churn and calculate money lost when a customer churns."
   ]
  },
  {
   "cell_type": "markdown",
   "id": "86766643",
   "metadata": {},
   "source": [
    "## Business Problem"
   ]
  },
  {
   "cell_type": "markdown",
   "id": "596dc311",
   "metadata": {},
   "source": [
    "In this project, we address the rate of customer churn at SyriaTel, a telecom company. Customer churn leads to significant revenue loss and increased costs for acquiring new customers. The goal is to identify the key factors that contribute to customer churn, such as international and voicemail plans, customer service interactions, and call usage patterns. By understanding these drivers, SyriaTel can develop targeted strategies to improve customer retention, enhance satisfaction, and reduce the financial impact of churn."
   ]
  },
  {
   "cell_type": "markdown",
   "id": "b460b23c",
   "metadata": {},
   "source": [
    "![Telephone](images/telephone-3594206_1280.jpg)"
   ]
  },
  {
   "cell_type": "markdown",
   "id": "5bd517ae",
   "metadata": {},
   "source": [
    "## Objectives"
   ]
  },
  {
   "cell_type": "markdown",
   "id": "d960b33c",
   "metadata": {},
   "source": [
    "* What is the overall churn rate?\n",
    "* Which package plans have customers at high risk of leaving?\n",
    "* What factors contribute to high rate of customer churn?\n"
   ]
  },
  {
   "cell_type": "markdown",
   "id": "cc76ac5e",
   "metadata": {},
   "source": [
    "## Data Understanding"
   ]
  },
  {
   "cell_type": "markdown",
   "id": "16a35fd2",
   "metadata": {},
   "source": [
    "The telecom data used in this project is from `kaggle`[here](https://www.kaggle.com/datasets/becksddf/churn-in-telecoms-dataset).\n"
   ]
  },
  {
   "cell_type": "markdown",
   "id": "05f64116",
   "metadata": {},
   "source": [
    "Import the neccessary libraries"
   ]
  },
  {
   "cell_type": "code",
   "execution_count": 13,
   "id": "e13138b8",
   "metadata": {},
   "outputs": [],
   "source": [
    "# import libraries\n",
    "import numpy as np\n",
    "import pandas as pd\n",
    "import matplotlib.pyplot as plt\n",
    "import seaborn as sns"
   ]
  },
  {
   "cell_type": "code",
   "execution_count": 14,
   "id": "87729cc3",
   "metadata": {},
   "outputs": [
    {
     "ename": "ModuleNotFoundError",
     "evalue": "No module named 'imblearn'",
     "output_type": "error",
     "traceback": [
      "\u001b[31m---------------------------------------------------------------------------\u001b[39m",
      "\u001b[31mModuleNotFoundError\u001b[39m                       Traceback (most recent call last)",
      "\u001b[36mCell\u001b[39m\u001b[36m \u001b[39m\u001b[32mIn[14]\u001b[39m\u001b[32m, line 12\u001b[39m\n\u001b[32m     10\u001b[39m \u001b[38;5;28;01mfrom\u001b[39;00m\u001b[38;5;250m \u001b[39m\u001b[34;01msklearn\u001b[39;00m\u001b[34;01m.\u001b[39;00m\u001b[34;01mmetrics\u001b[39;00m\u001b[38;5;250m \u001b[39m\u001b[38;5;28;01mimport\u001b[39;00m classification_report\n\u001b[32m     11\u001b[39m \u001b[38;5;28;01mfrom\u001b[39;00m\u001b[38;5;250m \u001b[39m\u001b[34;01msklearn\u001b[39;00m\u001b[34;01m.\u001b[39;00m\u001b[34;01mmetrics\u001b[39;00m\u001b[38;5;250m \u001b[39m\u001b[38;5;28;01mimport\u001b[39;00m roc_curve, auc\n\u001b[32m---> \u001b[39m\u001b[32m12\u001b[39m \u001b[38;5;28;01mfrom\u001b[39;00m\u001b[38;5;250m \u001b[39m\u001b[34;01mimblearn\u001b[39;00m\u001b[34;01m.\u001b[39;00m\u001b[34;01mover_sampling\u001b[39;00m\u001b[38;5;250m \u001b[39m\u001b[38;5;28;01mimport\u001b[39;00m SMOTE\n\u001b[32m     13\u001b[39m \u001b[38;5;28;01mfrom\u001b[39;00m\u001b[38;5;250m \u001b[39m\u001b[34;01msklearn\u001b[39;00m\u001b[34;01m.\u001b[39;00m\u001b[34;01mmodel_selection\u001b[39;00m\u001b[38;5;250m \u001b[39m\u001b[38;5;28;01mimport\u001b[39;00m GridSearchCV\n\u001b[32m     14\u001b[39m \u001b[38;5;28;01mimport\u001b[39;00m\u001b[38;5;250m \u001b[39m\u001b[34;01mwarnings\u001b[39;00m\n",
      "\u001b[31mModuleNotFoundError\u001b[39m: No module named 'imblearn'"
     ]
    }
   ],
   "source": [
    "# preprocessing and evaluation metrics\n",
    "from sklearn.preprocessing import LabelEncoder, OneHotEncoder, StandardScaler\n",
    "from sklearn.model_selection import train_test_split\n",
    "from sklearn.linear_model import LogisticRegression\n",
    "from sklearn.tree import DecisionTreeClassifier\n",
    "\n",
    "from sklearn.ensemble import RandomForestClassifier\n",
    "from sklearn.metrics import accuracy_score, precision_score, f1_score, recall_score\n",
    "from sklearn.metrics import confusion_matrix, ConfusionMatrixDisplay\n",
    "from sklearn.metrics import classification_report\n",
    "from sklearn.metrics import roc_curve, auc\n",
    "from imblearn.over_sampling import SMOTE\n",
    "from sklearn.model_selection import GridSearchCV\n",
    "import warnings\n",
    "warnings.simplefilter(action='ignore', category=FutureWarning)"
   ]
  },
  {
   "cell_type": "code",
   "execution_count": null,
   "id": "66d55de7",
   "metadata": {},
   "outputs": [],
   "source": [
    "# load dataset\n",
    "\n",
    "df = pd.read_csv(\"telecom.csv\", sep=\",\")\n",
    "df.head()"
   ]
  },
  {
   "cell_type": "code",
   "execution_count": null,
   "id": "34e3744f",
   "metadata": {},
   "outputs": [],
   "source": [
    "# check the dataset\n",
    "df.info()"
   ]
  },
  {
   "cell_type": "markdown",
   "id": "948f4421",
   "metadata": {},
   "source": [
    "* The dataset is clean has no missing values\n",
    "* It has 2 categorical columns (international plan, voicemail plan)"
   ]
  },
  {
   "cell_type": "code",
   "execution_count": null,
   "id": "3a88e347",
   "metadata": {},
   "outputs": [],
   "source": [
    "duplicates = df.duplicated()\n",
    "print(duplicates)"
   ]
  },
  {
   "cell_type": "markdown",
   "id": "9b197d84",
   "metadata": {},
   "source": [
    "* The dataset has 3333 entries with no duplicates"
   ]
  },
  {
   "cell_type": "code",
   "execution_count": null,
   "id": "d652565a",
   "metadata": {},
   "outputs": [],
   "source": [
    "# view summary statistics\n",
    "df.describe()"
   ]
  },
  {
   "cell_type": "code",
   "execution_count": null,
   "id": "a722034b",
   "metadata": {},
   "outputs": [],
   "source": [
    "# visualize the distribution of churn and add percentage annotations\n",
    "plt.figure(figsize=(8, 6))\n",
    "ax = sns.countplot(x='churn', data=df, palette='inferno')\n",
    "total = len(df)\n",
    "for p in ax.patches:\n",
    "    count = int(p.get_height())\n",
    "    percentage = 100 * count / total\n",
    "    ax.annotate(f'{percentage:.2f}%', (p.get_x() + p.get_width() / 2, p.get_height()),\n",
    "                ha='center', va='bottom', fontsize=12, color='black', fontweight='bold')\n",
    "plt.title('Distribution of Churn')\n",
    "plt.xlabel('Churn')\n",
    "plt.ylabel('Count')\n",
    "plt.show()"
   ]
  },
  {
   "cell_type": "code",
   "execution_count": null,
   "id": "cc703de6",
   "metadata": {},
   "outputs": [],
   "source": [
    "# view churn distribution of values in the dataset\n",
    "churn_distribution = df['churn'].value_counts()\n",
    "\n",
    "print(churn_distribution)"
   ]
  },
  {
   "cell_type": "markdown",
   "id": "98b638da",
   "metadata": {},
   "source": [
    "The target is binary so the a classification models will perform well.\n",
    "We will build two models:\n",
    "- Logistic regression as the base model \n",
    "- Decision trees "
   ]
  },
  {
   "cell_type": "code",
   "execution_count": null,
   "id": "8eec8f13",
   "metadata": {},
   "outputs": [],
   "source": [
    "# Calculate and display churn percentage\n",
    "churn_percent = (df['churn'].sum() / len(df)) * 100\n",
    "print(f\"Churn Percentage: {churn_percent:.2f}%\")\n",
    "# check percentage of loyal customers\n",
    "loyal_customers = (churn_distribution[False] / churn_distribution.sum()) * 100\n",
    "\n",
    "print(f\"Loyal Percentage: {loyal_customers:.2f}%\")"
   ]
  },
  {
   "cell_type": "markdown",
   "id": "2def85e3",
   "metadata": {},
   "source": [
    "* There are 85.51 % of loyal customers and 14.49% churn rate\n",
    "* The dataset has more records in one class therefore it is unbalanced."
   ]
  },
  {
   "cell_type": "code",
   "execution_count": null,
   "id": "ec819efc",
   "metadata": {},
   "outputs": [],
   "source": [
    "# drop phone number \n",
    "df = df.drop(columns=['phone number'],axis=1)"
   ]
  },
  {
   "cell_type": "markdown",
   "id": "4444fdc9",
   "metadata": {},
   "source": [
    "Map binary features international plan and voicemail plan\n",
    "yes = 1, \n",
    "no = 0"
   ]
  },
  {
   "cell_type": "code",
   "execution_count": null,
   "id": "7d93303a",
   "metadata": {},
   "outputs": [],
   "source": [
    "# map international and voicemail plans to 1 and 0\n",
    "df[['international plan', 'voice mail plan']] = df[['international plan', 'voice mail plan']].replace(['yes', 'no'], ['1', '0']).astype(int)"
   ]
  },
  {
   "cell_type": "markdown",
   "id": "365fade1",
   "metadata": {},
   "source": [
    "### Multivariate Analysis"
   ]
  },
  {
   "cell_type": "markdown",
   "id": "69114b40",
   "metadata": {},
   "source": [
    "This is to check the relationship of features"
   ]
  },
  {
   "cell_type": "code",
   "execution_count": null,
   "id": "0053e444",
   "metadata": {},
   "outputs": [],
   "source": [
    "numeric_df = df.select_dtypes(include=['float64', 'int64'])\n",
    "\n",
    "correlation_matrix = numeric_df.corr(method='spearman')\n",
    "#mask = np.triu(np.ones_like(correlation_matrix, dtype=bool))\n",
    "\n",
    "\n",
    "plt.figure(figsize=(10, 8))\n",
    "\n",
    "# Draw the heatmap\n",
    "sns.heatmap(correlation_matrix, annot=True, fmt=\".2f\", cmap='viridis')\n",
    "plt.title('Correlation Heatmap of Numerical Features')\n",
    "plt.tight_layout()\n",
    "plt.show()"
   ]
  },
  {
   "cell_type": "markdown",
   "id": "965aacc7",
   "metadata": {},
   "source": [
    "*Interpretation*\n",
    "\n",
    "`Redundacy`\n",
    "* The heatmap shows perfect correlations between minutes and charge for day, evening and night which indicates multicollinearity\n"
   ]
  },
  {
   "cell_type": "code",
   "execution_count": null,
   "id": "1e84b8ee",
   "metadata": {},
   "outputs": [],
   "source": [
    "# drop columns to avoid redundancy\n",
    "df = df.drop(columns=['total day charge', 'total eve charge', 'total night charge', 'total intl charge'])\n",
    "df.info()"
   ]
  },
  {
   "cell_type": "code",
   "execution_count": null,
   "id": "890dab4f",
   "metadata": {},
   "outputs": [],
   "source": [
    "# Calls and minutes aggregate\n",
    "df['total calls'] = df['total day calls'] + df['total eve calls'] + df['total night calls'] + df['total intl calls'] + df['customer service calls']\n",
    "df['total minutes'] = df['total day minutes'] + df['total eve minutes'] + df['total night minutes'] + df['total intl minutes']\n",
    "\n",
    "print(df['total calls'].describe(), df['total minutes'].describe(), sep='\\n\\n')"
   ]
  },
  {
   "cell_type": "markdown",
   "id": "031483d7",
   "metadata": {},
   "source": [
    "Check average calls and minutes by state"
   ]
  },
  {
   "cell_type": "code",
   "execution_count": null,
   "id": "0d8caabc",
   "metadata": {},
   "outputs": [],
   "source": [
    "# total calls and total minutes per state\n",
    "calls_by_state = df.groupby('state')['total calls'].sum().sort_values(ascending=False)\n",
    "minutes_by_state = df.groupby('state')['total minutes'].sum().sort_values(ascending=False)\n",
    "\n",
    "avg_minutes_by_state = df.groupby('state')['total minutes'].mean().sort_values(ascending=False)\n",
    "avg_calls_by_state = df.groupby('state')['total calls'].mean().sort_values(ascending=False)\n",
    "records_by_state = df.groupby('state')['churn'].count().sort_values(ascending=False)\n",
    "\n",
    "print(\"Top 5 states on average total minutes:\\n\", avg_minutes_by_state.head())\n",
    "\n",
    "print(\"Top 5 states on average total calls:\\n\",avg_calls_by_state.head())\n",
    "      \n",
    "print(\"Top 5 states on average total records:\\n\",records_by_state.head())\n"
   ]
  },
  {
   "cell_type": "markdown",
   "id": "f3d10e51",
   "metadata": {},
   "source": [
    "* From the top 5 states, indiana(IN) has the highest average total minutes\n",
    "* Georgia(GA) has the highest average total calls\n",
    "* West Virginia (WV) has the highest number of churn customers\n"
   ]
  },
  {
   "cell_type": "code",
   "execution_count": null,
   "id": "be727edf",
   "metadata": {},
   "outputs": [],
   "source": [
    "most_calls = calls_by_state.idxmax()\n",
    "least_calls = calls_by_state.idxmin()\n",
    "print('Most calls:', most_calls)\n",
    "print('Least calls:', least_calls)\n",
    "\n",
    "most_minutes = minutes_by_state.idxmax()\n",
    "least_minutes = minutes_by_state.idxmin()\n",
    "print('Most minutes:', most_minutes)\n",
    "print('Least minutes:', least_minutes)"
   ]
  },
  {
   "cell_type": "markdown",
   "id": "caf47bed",
   "metadata": {},
   "source": [
    "*Interpretation*\n",
    "* West Virginia has the highest number of calls and minutes\n",
    "* California has the least calls and least minutes"
   ]
  },
  {
   "cell_type": "markdown",
   "id": "34db7645",
   "metadata": {},
   "source": [
    "*Insights*\n",
    "* High number of calls and more minutes might cause the high number of churn."
   ]
  },
  {
   "cell_type": "markdown",
   "id": "252cf37c",
   "metadata": {},
   "source": [
    "**Visualization of churn by total calls in a histogram**"
   ]
  },
  {
   "cell_type": "code",
   "execution_count": null,
   "id": "90c3762f",
   "metadata": {},
   "outputs": [],
   "source": [
    "# visualize churn by total calls\n",
    "plt.figure(figsize=(8, 6))\n",
    "sns.histplot(data=df, x='total calls', hue='churn', bins=30, kde=False, multiple='stack')\n",
    "plt.title('Histogram of Churn by Total Calls')\n",
    "plt.xlabel('Total Calls')\n",
    "plt.ylabel('Count')\n",
    "plt.legend(title='Churn', labels=['Yes', 'No'])\n",
    "plt.tight_layout()\n",
    "plt.show()\n"
   ]
  },
  {
   "cell_type": "markdown",
   "id": "8493dd07",
   "metadata": {},
   "source": [
    "*Insights*\n",
    "* Customers with very low number of calls are more likely to churn"
   ]
  },
  {
   "cell_type": "markdown",
   "id": "017c4ee5",
   "metadata": {},
   "source": [
    "### Bivariate Analysis"
   ]
  },
  {
   "cell_type": "markdown",
   "id": "f849414d",
   "metadata": {},
   "source": [
    "### Churn rate by voice mail plan and international plan"
   ]
  },
  {
   "cell_type": "code",
   "execution_count": null,
   "id": "29da541d",
   "metadata": {},
   "outputs": [],
   "source": [
    "# print churn rate by voice mail plan and international plan\n",
    "print(df.groupby(['voice mail plan', 'international plan'])['churn'].mean())#end='\\n\\n')\n"
   ]
  },
  {
   "cell_type": "markdown",
   "id": "d710b234",
   "metadata": {},
   "source": [
    "Visualization"
   ]
  },
  {
   "cell_type": "code",
   "execution_count": null,
   "id": "3fd54674",
   "metadata": {},
   "outputs": [],
   "source": [
    "# Calculate churn percentage\n",
    "churn_percentage = df.groupby(['voice mail plan', 'international plan'])['churn'].mean() * 100\n",
    "\n",
    "# Plot the churn percentage\n",
    "churn_percentage.unstack().plot(kind='bar', figsize=(10, 6), color=['blue', 'maroon'])\n",
    "plt.title('Churn Percentage by Voice Mail and International Plans')\n",
    "plt.xlabel('Voice Mail Plan')\n",
    "plt.ylabel('Churn Percentage')\n",
    "plt.xticks(rotation=0)\n",
    "plt.legend(title='International Plan')\n",
    "plt.show()"
   ]
  },
  {
   "cell_type": "markdown",
   "id": "d0dee78f",
   "metadata": {},
   "source": [
    "*Interpretation*\n",
    "* Customers without an international plan (blue bars )but have voice mail plan (yes)have low churn percentage\n",
    "* For customers with an international plan, presence of voice mail plan small impact on churn.\n"
   ]
  },
  {
   "cell_type": "markdown",
   "id": "e2810c29",
   "metadata": {},
   "source": [
    "*Insights*\n",
    "* International plan seems to strongly cause churn.\n",
    "* For customers without an international plan, offering them voice mail plan may retain them."
   ]
  },
  {
   "cell_type": "markdown",
   "id": "5dbf7f3e",
   "metadata": {},
   "source": [
    "A similar visualization on different axes"
   ]
  },
  {
   "cell_type": "code",
   "execution_count": null,
   "id": "b43f07fb",
   "metadata": {},
   "outputs": [],
   "source": [
    "# Visualize the effect of international plan and voice mail plan on customer satisfaction (churn)\n",
    "fig, axes = plt.subplots(1, 2, figsize=(12, 5))\n",
    "\n",
    "# International plan vs churn\n",
    "sns.barplot(x='international plan', y='churn', data=df, ax=axes[0], errorbar=None, palette='viridis')\n",
    "axes[0].set_title('Churn Rate by International Plan')\n",
    "axes[0].set_xlabel('International Plan (0=No, 1=Yes)')\n",
    "axes[0].set_ylabel('Churn Rate')\n",
    "\n",
    "# Voice mail plan vs churn\n",
    "sns.barplot(x='voice mail plan', y='churn', data=df, ax=axes[1], errorbar=None, palette='plasma')\n",
    "axes[1].set_title('Churn Rate by Voice Mail Plan')\n",
    "axes[1].set_xlabel('Voice Mail Plan (0=No, 1=Yes)')\n",
    "axes[1].set_ylabel('Churn Rate')\n",
    "\n",
    "plt.tight_layout()\n",
    "plt.show()"
   ]
  },
  {
   "cell_type": "markdown",
   "id": "03fa5217",
   "metadata": {},
   "source": [
    "### Churn by Customer service calls"
   ]
  },
  {
   "cell_type": "code",
   "execution_count": null,
   "id": "5790b6e9",
   "metadata": {},
   "outputs": [],
   "source": [
    "# check churn by customer service calls\n",
    "df.groupby('churn')['customer service calls'].describe()"
   ]
  },
  {
   "cell_type": "code",
   "execution_count": null,
   "id": "be3cc5e5",
   "metadata": {},
   "outputs": [],
   "source": [
    "# Visualize customer service churn\n",
    "fig, ax = plt.subplots()\n",
    "avg_calls = df.groupby('churn')['customer service calls'].mean()\n",
    "avg_calls.plot(kind='bar', ax=ax, label='')\n",
    "ax.axhline(y=df['customer service calls'].mean(),c='black', label='dataset mean')\n",
    "ax.legend()\n",
    "ax.set_title('mean customer service calls on churn')\n",
    "ax.set_ylabel('customer service calls (mean)', rotation = 90)\n",
    "\n",
    "for p in ax.patches:\n",
    "    width, height = p.get_width(), p.get_height()\n",
    "    ax.annotate('{:.2f}'.format(height), (p.get_x()+.35*width, p.get_y()+.5*height), color = 'white', weight = 'bold', size = 14)\n",
    "\n",
    "plt.tight_layout()\n",
    "plt.show()"
   ]
  },
  {
   "cell_type": "markdown",
   "id": "4764fa3a",
   "metadata": {},
   "source": [
    "*Interpretation*\n",
    "* Disloyal customers made more calls than loyal customers\n",
    "* Average number of calls made by disloyal customers is higher (2.23) than the dataset mean approximately (1.6)"
   ]
  },
  {
   "cell_type": "markdown",
   "id": "2c316534",
   "metadata": {},
   "source": [
    "*Insights*\n",
    "* Dissatisfied customers may tend to make more calls to customer service and eventually churn"
   ]
  },
  {
   "cell_type": "code",
   "execution_count": null,
   "id": "4c9f46a0",
   "metadata": {},
   "outputs": [],
   "source": [
    "sns.barplot(y='number vmail messages', x='churn', data=df, errorbar=None, palette='inferno')\n",
    "plt.title('Relationship Between Number of Voicemail Messages and Churn')\n",
    "plt.xlabel('Number of Voicemail Messages')\n",
    "plt.ylabel('Churn Rate')\n",
    "plt.xticks(rotation=90)\n",
    "plt.tight_layout()\n",
    "plt.show()"
   ]
  },
  {
   "cell_type": "markdown",
   "id": "f9c32797",
   "metadata": {},
   "source": [
    "*Interpretation*\n",
    "* Loyal customers(not churned) have high number of voice messages compared to disloyal(churned)\n",
    "* Disloyal custumers have lower voicemail messages"
   ]
  },
  {
   "cell_type": "markdown",
   "id": "96ab6fee",
   "metadata": {},
   "source": [
    "*Insights*\n",
    "* Customers actively using voicemail messages are engaged probably satisfied with the service and less likely to churn\n",
    "* Customers less engaged are likely dissatisfied with the service raising the probability to churn "
   ]
  },
  {
   "cell_type": "markdown",
   "id": "c017d378",
   "metadata": {},
   "source": [
    "## Data Preparation"
   ]
  },
  {
   "cell_type": "markdown",
   "id": "138a55ee",
   "metadata": {},
   "source": [
    "### Preprocessing\n",
    "- Preparing the data before splitting into training and test sets to avoid data \n",
    "- We use One-Hot Encoding to get dummies for categoricals columns and Standard scaler to convert to same unit variance "
   ]
  },
  {
   "cell_type": "code",
   "execution_count": null,
   "id": "4a8675c0",
   "metadata": {},
   "outputs": [],
   "source": [
    "# define categorical columns\n",
    "categorical_columns = df[df.select_dtypes(exclude=['number']).columns]\n",
    "\n",
    "# view categorical columns\n",
    "categorical_columns.info()"
   ]
  },
  {
   "cell_type": "markdown",
   "id": "32df5efe",
   "metadata": {},
   "source": [
    "Use One-hot Encoding to get dummies"
   ]
  },
  {
   "cell_type": "code",
   "execution_count": null,
   "id": "bc716af6",
   "metadata": {},
   "outputs": [],
   "source": [
    "# use one hot encoding on state and convert to integer\n",
    "state_dummy = pd.get_dummies(df, columns=[\"state\", 'area code'],drop_first=True)\n",
    "\n",
    "state_dummy = state_dummy.astype(int)\n",
    "state_dummy.info()"
   ]
  },
  {
   "cell_type": "markdown",
   "id": "3bec24d0",
   "metadata": {},
   "source": [
    "Scale the data to unit variance"
   ]
  },
  {
   "cell_type": "code",
   "execution_count": null,
   "id": "414fcc52",
   "metadata": {},
   "outputs": [],
   "source": [
    "#using standard scaler to make values same unit\n",
    "numeric_features = df.select_dtypes(include=['number'])\n",
    "\n",
    "# instantiate standard scaler\n",
    "scaler = StandardScaler()\n",
    "scaled_features = scaler.fit_transform(numeric_features)\n",
    "scaled_features_df = pd.DataFrame(scaled_features, columns=numeric_features.columns)\n",
    "print(scaled_features_df.head())"
   ]
  },
  {
   "cell_type": "markdown",
   "id": "49897eb4",
   "metadata": {},
   "source": [
    "Combine the datasets"
   ]
  },
  {
   "cell_type": "code",
   "execution_count": null,
   "id": "61c0cec6",
   "metadata": {},
   "outputs": [],
   "source": [
    "# combine state dummies with scaled features df\n",
    "df_combined = pd.concat([state_dummy, scaled_features_df], axis=1)\n",
    "df_combined.info()"
   ]
  },
  {
   "cell_type": "markdown",
   "id": "03b2a862",
   "metadata": {},
   "source": [
    "### Split the data into training and testing"
   ]
  },
  {
   "cell_type": "code",
   "execution_count": null,
   "id": "167a5c9f",
   "metadata": {},
   "outputs": [],
   "source": [
    "# name the predictor and the target variables\n",
    "X = df_combined.drop(columns=['churn'], axis=1)\n",
    "y = df['churn']\n",
    "\n",
    "# Split the data into training and testing sets\n",
    "X_train, X_test, y_train, y_test = train_test_split(X, y, test_size=0.2, random_state=42)\n",
    "target_names = ['False.', 'True']\n",
    "\n",
    "print(\"Training set size:\", X_train.shape)\n",
    "print(\"Testing set size:\", X_test.shape)"
   ]
  },
  {
   "cell_type": "markdown",
   "id": "208ec2cc",
   "metadata": {},
   "source": [
    "Use Logistic Regression to create base model"
   ]
  },
  {
   "cell_type": "code",
   "execution_count": null,
   "id": "78d91e45",
   "metadata": {},
   "outputs": [],
   "source": [
    "# use Logistic regression\n",
    "lr = LogisticRegression(max_iter=6000)\n",
    "\n",
    "# fit and train the model\n",
    "lr.fit(X_train, y_train)\n",
    "\n",
    "#prediction\n",
    "y_pred_1 = lr.predict(X_test)"
   ]
  },
  {
   "cell_type": "code",
   "execution_count": null,
   "id": "7d508663",
   "metadata": {},
   "outputs": [],
   "source": [
    "# print the report\n",
    "print(classification_report(y_test, y_pred_1, target_names=target_names))"
   ]
  },
  {
   "cell_type": "code",
   "execution_count": null,
   "id": "e9bc2188",
   "metadata": {},
   "outputs": [],
   "source": [
    "# Evaluate the model perfomance\n",
    "acc_lr = accuracy_score(y_test, y_pred_1)\n",
    "f1_lr = f1_score(y_test, y_pred_1)\n",
    "recall_lr = recall_score(y_test, y_pred_1)\n",
    "precision_lr = precision_score(y_test, y_pred_1)\n",
    "\n",
    "print(f\"F1 score: {f1_lr}, \\n Recall: {recall_lr}, \\n Precision: {precision_lr}, \\n Accuracy: {acc_lr}\")\n"
   ]
  },
  {
   "cell_type": "markdown",
   "id": "3fcc6bcd",
   "metadata": {},
   "source": [
    "*Interpretation*\n",
    "\n",
    "* Precision - The model correctly predicts that 54% of the instances a customer churned\n",
    "* Recall - The model is fails to correctly predict customers who churned.\n",
    "* Accuracy - The model's accuracy is 85%, meaning it can be improved by balancing classes\n",
    "\n",
    "* Class imbalance - support of 'False' 566 and 'True' 101"
   ]
  },
  {
   "cell_type": "code",
   "execution_count": null,
   "id": "2a0cbe76",
   "metadata": {},
   "outputs": [],
   "source": [
    "# Create a confusion matrix\n",
    "ConfusionMatrixDisplay.from_predictions(y_test, y_pred_1)\n",
    "plt.title(\"Confusion Matrix - Logistic Regression\")\n",
    "plt.show()\n"
   ]
  },
  {
   "cell_type": "markdown",
   "id": "0f8d5d16",
   "metadata": {},
   "source": [
    "\n",
    "* The model is biased towards predicting the majority class and fails to effectively predict the minority class"
   ]
  },
  {
   "cell_type": "markdown",
   "id": "3c92e11d",
   "metadata": {},
   "source": [
    "### Apply SMOTE to solve class imbalance"
   ]
  },
  {
   "cell_type": "code",
   "execution_count": null,
   "id": "085d55cf",
   "metadata": {},
   "outputs": [],
   "source": [
    "# Previous original class distribution\n",
    "print('Original class distribution: \\n')\n",
    "print(y.value_counts())\n",
    "smote = SMOTE()\n",
    "X_train_resampled, y_train_resampled = smote.fit_resample(X_train, y_train) \n",
    "# Preview synthetic sample class distribution\n",
    "print('-----------------------------------------')\n",
    "print('Synthetic sample class distribution: \\n')\n",
    "print(pd.Series(y_train_resampled).value_counts()) "
   ]
  },
  {
   "cell_type": "markdown",
   "id": "37d5198e",
   "metadata": {},
   "source": [
    "The data is balanced"
   ]
  },
  {
   "cell_type": "code",
   "execution_count": null,
   "id": "948a3b4c",
   "metadata": {},
   "outputs": [],
   "source": [
    "# use the balanced data\n",
    "logreg = LogisticRegression(max_iter=6000, C=1e12, fit_intercept=False, solver='liblinear')\n",
    "logreg.fit(X_train_resampled, y_train_resampled)"
   ]
  },
  {
   "cell_type": "code",
   "execution_count": null,
   "id": "77da0df8",
   "metadata": {},
   "outputs": [],
   "source": [
    "# check the metrics\n",
    "# calculate the probability scores of each of the datapoints:\n",
    "y_score = logreg.fit(X_train_resampled, y_train_resampled).decision_function(X_test)\n",
    "\n",
    "fpr, tpr, thresholds = roc_curve(y_test, y_score)"
   ]
  },
  {
   "cell_type": "code",
   "execution_count": null,
   "id": "82b0b74e",
   "metadata": {},
   "outputs": [],
   "source": [
    "# print the Auc\n",
    "print('AUC: {}'.format(auc(fpr,tpr)))"
   ]
  },
  {
   "cell_type": "markdown",
   "id": "6a40e92c",
   "metadata": {},
   "source": [
    "Plot the ROC curve"
   ]
  },
  {
   "cell_type": "code",
   "execution_count": null,
   "id": "0dbb5a1c",
   "metadata": {},
   "outputs": [],
   "source": [
    "\n",
    "# Compute ROC curve and ROC area\n",
    "fpr, tpr, thresholds = roc_curve(y_test, y_score)\n",
    "roc_auc = auc(fpr, tpr)\n",
    "\n",
    "plt.figure(figsize=(8, 6))\n",
    "plt.plot(fpr, tpr, color='darkorange', lw=2, label=f'ROC curve (AUC = {roc_auc:.2f})')\n",
    "plt.plot([0, 1], [0, 1], color='navy', lw=2, linestyle='--')\n",
    "plt.xlim([0.0, 1.0])\n",
    "plt.ylim([0.0, 1.05])\n",
    "plt.xlabel('False Positive Rate')\n",
    "plt.ylabel('True Positive Rate')\n",
    "plt.title('Receiver Operating Characteristic (ROC) Curve')\n",
    "plt.legend(loc=\"lower right\")\n",
    "plt.show()"
   ]
  },
  {
   "cell_type": "markdown",
   "id": "1656b3bb",
   "metadata": {},
   "source": [
    "The model's Auc score of 0.82 shows 82% chance of being able to distinguish between a positive and a negative instance."
   ]
  },
  {
   "cell_type": "markdown",
   "id": "fb01ea37",
   "metadata": {},
   "source": [
    "### Decision Trees "
   ]
  },
  {
   "cell_type": "code",
   "execution_count": null,
   "id": "79afca80",
   "metadata": {},
   "outputs": [],
   "source": [
    "# instantiate the model\n",
    "tree = DecisionTreeClassifier(random_state=24)\n",
    "\n",
    "# fit the model on resampled / balanced data\n",
    "tree.fit(X_train_resampled, y_train_resampled)\n",
    "\n",
    "# predict\n",
    "y_pred_tree = tree.predict( X_test)"
   ]
  },
  {
   "cell_type": "code",
   "execution_count": null,
   "id": "5ef8680b",
   "metadata": {},
   "outputs": [],
   "source": [
    "# Plot confusion matrix for Decision Tree on resampled data\n",
    "\n",
    "ConfusionMatrixDisplay.from_predictions(y_test, y_pred_tree)\n",
    "plt.title(\"Confusion Matrix - Decision Tree\")\n",
    "plt.show()\n"
   ]
  },
  {
   "cell_type": "code",
   "execution_count": null,
   "id": "f79f3169",
   "metadata": {},
   "outputs": [],
   "source": [
    "# evaluate the model\n",
    "f1_tree = f1_score(y_test, y_pred_tree)\n",
    "recall_tree = recall_score(y_test, y_pred_tree)\n",
    "precision_tree = precision_score(y_test, y_pred_tree)\n",
    "acc_tree = accuracy_score(y_test, y_pred_tree)\n",
    "\n",
    "print(f\"F1 score: {f1_tree:.2f}, \\n Recall: {recall_tree:.2f}, \\n Precision: {precision_tree:.2f}, \\n Accuracy: {acc_tree:.2f}\")\n",
    "print(\"Decision Tree (tree) Results:\")\n",
    "print(classification_report(y_test, y_pred_tree))"
   ]
  },
  {
   "cell_type": "markdown",
   "id": "d2cf36eb",
   "metadata": {},
   "source": [
    "*Interpretation* \n",
    " * The decision tree performed better than the logistic model\n",
    " * The f1_score of 95% is good metric \n",
    " * The overall metrics are good, with an accuracy of 91%\n",
    " "
   ]
  },
  {
   "cell_type": "markdown",
   "id": "bc7f6f42",
   "metadata": {},
   "source": [
    "*Insights* \n",
    "- I choose the F1_score of 95% since it's the harmonic mean of recall and precision.\n",
    "- In real-world predictions, a 95% F1_score implies that prioritization would be almost accurate since customer support team would be focused on many genuine cases."
   ]
  },
  {
   "cell_type": "code",
   "execution_count": null,
   "id": "8721a718",
   "metadata": {},
   "outputs": [],
   "source": [
    "# Tuning the moddel using GridsearchCV\n",
    "\n",
    "\"\"\"\n",
    "max_depth - length of tree\n",
    "\n",
    "min_samples_split - number of samples to split an internal node\n",
    "\n",
    "criterion - entropy , gini\n",
    "\n",
    "max_features - number of predictors to use during each split, higher may lead to overfitting, lower generalizes\n",
    "\n",
    "splitter - best , random - the strategy used choose split\n",
    "\n",
    "min_samples_leaf - how many you need in a group/leaf mode\n",
    "\n",
    "\"\"\"\n",
    "tree_1= DecisionTreeClassifier(random_state=42)\n",
    "\n",
    "param_grid = {\n",
    "    'max_depth': [None, 3, 5, 20],\n",
    "    'min_samples_split': [5, 20,100, 1000],\n",
    "    'min_samples_leaf': [5, 10, 15],\n",
    "    'criterion':['gini', 'entropy'] ,\n",
    "    'max_features': ['sqrt','log2']\n",
    "    }\n",
    "\n",
    "# instantiate\n",
    "grid_search = GridSearchCV(estimator=tree_1, param_grid=param_grid, cv=2, scoring = 'accuracy' )\n",
    "\n",
    "#training/fitting the  gridsearch\n",
    "grid_search.fit(X_train_resampled, y_train_resampled)\n"
   ]
  },
  {
   "cell_type": "code",
   "execution_count": null,
   "id": "542687f0",
   "metadata": {},
   "outputs": [],
   "source": [
    "# check the parameters \n",
    "params = grid_search.best_params_\n",
    "score = grid_search.best_score_\n",
    "\n",
    "print(f'Best Parameters: {params}')\n",
    "print(f'Best Scores: {score:.2f}')"
   ]
  },
  {
   "cell_type": "code",
   "execution_count": null,
   "id": "ed797b74",
   "metadata": {},
   "outputs": [],
   "source": [
    "# Apply the tuning to a grid model\n",
    "grid_model = grid_search.best_estimator_\n",
    "\n",
    "#predicting using the best grid search model\n",
    "y_preds_g = grid_model.predict(X_test)\n",
    "\n",
    "\n",
    "f1_g = f1_score(y_test, y_preds_g)\n",
    "acc_g = accuracy_score(y_test, y_preds_g)\n",
    "precision_g = precision_score(y_test, y_preds_g)\n",
    "recall_g = recall_score(y_test, y_preds_g)\n",
    "\n",
    "print(\n",
    "    f\"Grid model has an: \\n Accuracy: {acc_g:.2f}, \\n Precision: {precision_g:.2f}, \\n Recall: {recall_g:.2f}, \\n F1 Score: {f1_g:.2f}\"\n",
    ")\n"
   ]
  },
  {
   "cell_type": "code",
   "execution_count": null,
   "id": "dab975b8",
   "metadata": {},
   "outputs": [],
   "source": [
    "# compare the two models performance\n",
    "print(\"Decision Tree (tree) Results:\")\n",
    "print(classification_report(y_test, y_pred_tree))\n",
    "\n",
    "print(\"\\nTuned Decision Tree (grid_model) Results:\")\n",
    "print(classification_report(y_test, y_preds_g))"
   ]
  },
  {
   "cell_type": "markdown",
   "id": "6f4b6c10",
   "metadata": {},
   "source": [
    "*Interpretation*\n",
    "* The original Decision tree performed better than the tuned Decision tree\n",
    "* Hyperparameter tuning did not improve minority class performance"
   ]
  },
  {
   "cell_type": "code",
   "execution_count": null,
   "id": "08f693b9",
   "metadata": {},
   "outputs": [],
   "source": [
    "# Count number of customers predicted to churn (True) by each model\n",
    "n_churned_lr = np.sum(y_pred_1)\n",
    "n_churned_tree = np.sum(y_pred_tree)\n",
    "\n",
    "print(f\"Logistic Regression predicted {n_churned_lr} customers to churn.\")\n",
    "print(f\"Decision Tree predicted {n_churned_tree} customers to churn.\")"
   ]
  },
  {
   "cell_type": "markdown",
   "id": "2c095f66",
   "metadata": {},
   "source": [
    "### Random Forest Classifier"
   ]
  },
  {
   "cell_type": "code",
   "execution_count": null,
   "id": "67824f7f",
   "metadata": {},
   "outputs": [],
   "source": [
    "# instantiate Random Forest\n",
    "classifier = RandomForestClassifier(max_depth=5, n_estimators=10, max_features=10,random_state=42)\n",
    "\n",
    "# fit the model\n",
    "classifier = classifier.fit(X_train_resampled, y_train_resampled)\n",
    "print(classifier)"
   ]
  },
  {
   "cell_type": "code",
   "execution_count": null,
   "id": "24abe66d",
   "metadata": {},
   "outputs": [],
   "source": [
    "# predict\n",
    "y_random_frst=classifier.predict(X_test)\n",
    "\n",
    "# Evaluate\n",
    "score = classifier.score(X_test, y_test)\n",
    "print('Random Forest Classifier : ',score)\n",
    "print('Accuracy Score',accuracy_score(y_test,y_random_frst))  \n",
    "print(classification_report(y_test, y_random_frst, target_names=target_names))"
   ]
  },
  {
   "cell_type": "code",
   "execution_count": null,
   "id": "e591b63f",
   "metadata": {},
   "outputs": [],
   "source": [
    "# compare the models performance\n",
    "print(\"Decision Tree (tree) Results:\")\n",
    "print(classification_report(y_test, y_pred_tree))\n",
    "\n",
    "print(\"\\nRandom Forest (Random Forest model) Results:\")\n",
    "print(classification_report(y_test, y_random_frst, target_names=target_names))"
   ]
  },
  {
   "cell_type": "markdown",
   "id": "da2d50ee",
   "metadata": {},
   "source": [
    "*Interpretation*\n",
    "- The Random Forest classifier performs better than all other models\n",
    "- It generalizes minority class better"
   ]
  },
  {
   "cell_type": "markdown",
   "id": "a4e68411",
   "metadata": {},
   "source": [
    "*Insights*\n",
    "- Random Forest Classifier is overall best model since it generalizes the minority class well."
   ]
  },
  {
   "cell_type": "markdown",
   "id": "a7c489d7",
   "metadata": {},
   "source": [
    "## Analyze factors causing churn"
   ]
  },
  {
   "cell_type": "code",
   "execution_count": null,
   "id": "e70ca9d0",
   "metadata": {},
   "outputs": [],
   "source": [
    "# Analyze feature importances from the decision tree to identify key factors causing churn\n",
    "importances = classifier.feature_importances_\n",
    "feature_names = X_train.columns\n",
    "\n",
    "# Get top features\n",
    "feature_importance_df = pd.DataFrame({\n",
    "    'feature': feature_names,\n",
    "    'importance': importances\n",
    "}).sort_values(by='importance', ascending=False)\n",
    "\n",
    "print(\"Top factors causing churn based on Decision Tree importance:\")\n",
    "print(feature_importance_df.head(10))"
   ]
  },
  {
   "cell_type": "markdown",
   "id": "3c8515f5",
   "metadata": {},
   "source": [
    "### Features that contribute to churn"
   ]
  },
  {
   "cell_type": "code",
   "execution_count": null,
   "id": "ccc5574f",
   "metadata": {},
   "outputs": [],
   "source": [
    "# Visualize top 10 features contributing to churn from the decision tree\n",
    "plt.figure(figsize=(10, 6))\n",
    "sns.barplot(\n",
    "    x='importance',\n",
    "    y='feature',\n",
    "    data=feature_importance_df.head(10),\n",
    "    palette='viridis'\n",
    ")\n",
    "plt.title('Top 10 Features Contributing to Churn (Decision Tree)')\n",
    "plt.xlabel('Importance Score')\n",
    "plt.ylabel('Feature')\n",
    "plt.tight_layout()\n",
    "plt.show()"
   ]
  },
  {
   "cell_type": "markdown",
   "id": "7c15a4c8",
   "metadata": {},
   "source": [
    "## Conclusion\n",
    "### *The analysis of this dataset reveals several key insights into the drivers of customer churn.*\n",
    "\n",
    "* High number of customer service calls show dissatisfaction and a potential churn.\n",
    "* Customers with an international plan are more likely to churn, and those who make more customer service calls also show a higher tendency to leave, indicating dissatisfaction with the service.\n",
    "* Customers who actively use voicemail services tend to be more loyal. \n",
    "* The models show that accuracy is high due to class imbalance, recall for the minority (churn) class is improved after applying SMOTE. \n",
    "* Feature importance analysis confirms that customer service calls, international plan, and usage patterns are significant predictors of churn."
   ]
  },
  {
   "cell_type": "code",
   "execution_count": null,
   "id": "9afad3e7",
   "metadata": {},
   "outputs": [],
   "source": [
    "# Visualize the conclusion\n",
    "\n",
    "fig, axes = plt.subplots(1, 3, figsize=(18, 5))\n",
    "\n",
    "# 1. Customer service calls vs churn\n",
    "sns.barplot(x='churn', y='customer service calls', data=df, ax=axes[0], errorbar=None)\n",
    "axes[0].set_title('Customer Service Calls by Churn')\n",
    "axes[0].set_xlabel('Churn')\n",
    "axes[0].set_ylabel('Avg Customer Service Calls')\n",
    "\n",
    "# 2. International plan vs churn\n",
    "sns.barplot(x='international plan', y='churn', data=df, ax=axes[1], errorbar=None)\n",
    "axes[1].set_title('Churn Rate by International Plan')\n",
    "axes[1].set_xlabel('International Plan (0=No, 1=Yes)')\n",
    "axes[1].set_ylabel('Churn Rate')\n",
    "\n",
    "# 3. Voicemail usage vs churn\n",
    "sns.barplot(x='churn', y='number vmail messages', data=df, \n",
    "ax=axes[2], errorbar=None)\n",
    "axes[2].set_title('Voicemail Messages by Churn')\n",
    "axes[2].set_xlabel('Churn')\n",
    "axes[2].set_ylabel('Avg Voicemail Messages')\n",
    "\n",
    "plt.tight_layout()\n",
    "plt.show()\n",
    "\n"
   ]
  },
  {
   "cell_type": "markdown",
   "id": "05edabbb",
   "metadata": {},
   "source": [
    "## Recommendations\n",
    "- Offering incentives or tailored packages to these segments, as well as promoting voicemail plan usage, may help increase satisfaction and retention.\n",
    "- SyriaTel should focus on improving customer service quality especially customers who call for support or help, this would reduce churn and loss of revenue\n",
    "- There should be a special consideration to customers with international plans as they have a high chance of leaving."
   ]
  },
  {
   "cell_type": "markdown",
   "id": "8af53f3e",
   "metadata": {},
   "source": [
    "## Next steps\n",
    "- Stay update with real-time industry data and new technology to adjust to new ideas.\n",
    "- Marketing team should focus on customer acquisition and retention methods like content marketing and loyalty rewards.\n"
   ]
  }
 ],
 "metadata": {
  "kernelspec": {
   "display_name": "Python [conda env:new_learn_env]",
   "language": "python",
   "name": "conda-env-new_learn_env-py"
  },
  "language_info": {
   "codemirror_mode": {
    "name": "ipython",
    "version": 3
   },
   "file_extension": ".py",
   "mimetype": "text/x-python",
   "name": "python",
   "nbconvert_exporter": "python",
   "pygments_lexer": "ipython3",
   "version": "3.12.9"
  }
 },
 "nbformat": 4,
 "nbformat_minor": 5
}
